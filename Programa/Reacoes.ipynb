{
 "cells": [
  {
   "cell_type": "markdown",
   "id": "34eb8d47",
   "metadata": {},
   "source": [
    "# Reações"
   ]
  },
  {
   "cell_type": "markdown",
   "id": "927be6fe",
   "metadata": {},
   "source": [
    "## Ao receber dano"
   ]
  },
  {
   "cell_type": "code",
   "execution_count": null,
   "id": "e082a93d",
   "metadata": {},
   "outputs": [],
   "source": [
    "def receber_dano (alvo,valor,tipo,atacante): # Determina como o dano é calculado.\n",
    "    if any(elem in tipo for elem in alvo.resistencias): valor = x = round(valor/2,0) ; print(alvo.nome + ' é resistente a esse tipo de dano!')\n",
    "    elif any(elem in tipo for elem in alvo.vulnerabilidades): valor = 2*valor ; print(alvo.nome + ' é vulnerável a esse tipo de dano!')\n",
    "    elif any(elem in tipo for elem in alvo.imunidades): print(alvo.nome + ' é imune a esse tipo de dano!') ; return\n",
    "    elif any(elem in tipo for elem in alvo.absorcao): valor = -1*valor ; print(alvo.nome + ' absorveu o dano!') ; alvo.vida -= valor ; return\n",
    "    alvo.vida -= valor\n",
    "    if hasattr(alvo,'corpo'):\n",
    "        if alvo.corpo != 'nu':\n",
    "            if 'rigida' in alvo.corpo.obs: alvo.vida += 2 ; valor -= 2\n",
    "            if 'pesada' in alvo.corpo.obs: alvo.vida += 1 ; valor -= 1\n",
    "    print('Dano =', valor) ; print('Vida de ' + alvo.nome + ' =', alvo.vida)\n",
    "    if alvo.vida <= 0: alvo.vida = 0\n",
    "    \n",
    "    if atacante.nome == 'Verme_Gigante_1' or atacante.nome == 'Verme_Gigante_2': alvo.condicao.append('infectado') # infectados recuperam menos vida ao descansar e comer, não falar o porque\n",
    "    \n",
    "    # Combate Gigante\n",
    "    if (atacante.nome == 'Dragao_de_Fogo_Jovem' or atacante.nome == 'Ogro_1' or atacante.nome == 'Ogro_2' or atacante.nome == 'Ogro_3' or atacante.nome == 'Troll' or \\\n",
    "        atacante.nome == 'Verme_Gigante_1' or atacante.nome == 'Verme_Gigante_2') and sopro_fogo == False and 'caido' not in alvo.condicao:\n",
    "        print('Efeito do Combate Gigante.')\n",
    "        acct = 0 ; ecct = 0 ; Di = atacante.forca ; print('Rolagem do Gigante:')\n",
    "        for d in range(atacante.qtd_dados):\n",
    "            di = dado() ; Di += di ; print('Dado ' + str(d) + '= ',di)\n",
    "            if di == 6: acct += 1\n",
    "            elif di == 1: ecct += 1\n",
    "            if acct == 2 or ecct == 2: break\n",
    "        Di_Gigante = Di\n",
    "        if acct == 2: \n",
    "            alvo.condicao.append('caido') ; alvo.bonus_dado -= 2 ; alvo.vida -= 6\n",
    "            print('Acerto crítico do Gigante!') ; print('Dano =', 6) ; print('Vida de ' + alvo.nome + ' =', alvo.vida) ; print(alvo.nome,'está caído!') ; return\n",
    "        elif ecct == 2: print('Erro crítico do Gigante!') ; return\n",
    "        \n",
    "        Di = alvo.forca ; acct = 0 ; ecct = 0 ; print('Rolagem do pequeno:')\n",
    "        for d in range(alvo.qtd_dados):\n",
    "            di = dado() ; Di += di ; print('Dado ' + str(d) + '= ',di)\n",
    "            if di == 6: acct += 1\n",
    "            elif di == 1: ecct += 1\n",
    "            if acct == 2 or ecct == 2: break\n",
    "        Di_pequeno = Di\n",
    "        if acct == 2: print('Acerto crítico do pequeno!') ; return\n",
    "        elif ecct == 2: \n",
    "            alvo.condicao.append('caido') ; alvo.bonus_dado -= 2 ; alvo.vida -= 6\n",
    "            print('Erro crítico do pequeno!') ; print('Dano =', 6) ; print('Vida de ' + alvo.nome + ' =', alvo.vida) ; print(alvo.nome,'está caído!') ; return\n",
    "        \n",
    "        if Di_Gigante >= Di_pequeno:\n",
    "            alvo.condicao.append('caido') ; alvo.bonus_dado -= 2 ; alvo.vida -= 6\n",
    "            print('Dano =', 6) ; print('Vida de ' + alvo.nome + ' =', alvo.vida) ; print(alvo.nome,'está caído!')\n",
    "        else: print(alvo.nome,'segurou o tranco!')\n",
    "            \n",
    "    # Golpe Devastador\n",
    "    if Golpe_Devastador == True:\n",
    "        print('Efeitos devastadores!')\n",
    "        acct = 0 ; ecct = 0 ; Di = atacante.forca ; print('Rolagem do ' + atacante.nome)\n",
    "        for d in range(atacante.qtd_dados):\n",
    "            di = dado() ; Di += di ; print('Dado ' + str(d) + '= ',di)\n",
    "            if di == 6: acct += 1\n",
    "            elif di == 1: ecct += 1\n",
    "            if acct == 2 or ecct == 2: break\n",
    "        Di_atacante = Di\n",
    "        if acct == 2: \n",
    "            alvo.condicao.append('paralisado') ; print('Acerto crítico do atacante!') ; print(alvo.nome,'está paralisado!') ; return\n",
    "        elif ecct == 2: print('Erro crítico do atacante!') ; return\n",
    "\n",
    "        Di = alvo.forca ; acct = 0 ; ecct = 0 ; print('Rolagem de ' + alvo.nome)\n",
    "        for d in range(alvo.qtd_dados):\n",
    "            di = dado() ; Di += di ; print('Dado ' + str(d) + '= ',di)\n",
    "            if di == 6: acct += 1\n",
    "            elif di == 1: ecct += 1\n",
    "            if acct == 2 or ecct == 2: break\n",
    "        Di_defensor = Di\n",
    "        if acct == 2: print('Acerto crítico do defensor!') ; return\n",
    "        elif ecct == 2: \n",
    "            alvo.condicao.append('paralisado') ; print('Erro crítico do defensor!') ; print(alvo.nome,'está paralisado!') ; return\n",
    "\n",
    "        if Di_atacante >= Di_defensor:\n",
    "            alvo.condicao.append('paralisado') ; print(alvo.nome,'está paralisado')\n",
    "        else: print(alvo.nome,'aguentou a pressão!')"
   ]
  }
 ],
 "metadata": {
  "kernelspec": {
   "display_name": "Python 3 (ipykernel)",
   "language": "python",
   "name": "python3"
  },
  "language_info": {
   "codemirror_mode": {
    "name": "ipython",
    "version": 3
   },
   "file_extension": ".py",
   "mimetype": "text/x-python",
   "name": "python",
   "nbconvert_exporter": "python",
   "pygments_lexer": "ipython3",
   "version": "3.10.11"
  },
  "varInspector": {
   "cols": {
    "lenName": 16,
    "lenType": 16,
    "lenVar": 40
   },
   "kernels_config": {
    "python": {
     "delete_cmd_postfix": "",
     "delete_cmd_prefix": "del ",
     "library": "var_list.py",
     "varRefreshCmd": "print(var_dic_list())"
    },
    "r": {
     "delete_cmd_postfix": ") ",
     "delete_cmd_prefix": "rm(",
     "library": "var_list.r",
     "varRefreshCmd": "cat(var_dic_list()) "
    }
   },
   "types_to_exclude": [
    "module",
    "function",
    "builtin_function_or_method",
    "instance",
    "_Feature"
   ],
   "window_display": false
  }
 },
 "nbformat": 4,
 "nbformat_minor": 5
}
