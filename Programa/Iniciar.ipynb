{
 "cells": [
  {
   "cell_type": "markdown",
   "id": "2856094b",
   "metadata": {},
   "source": [
    "# Configurações Iniciais Necessárias"
   ]
  },
  {
   "cell_type": "code",
   "execution_count": null,
   "id": "37e656b9",
   "metadata": {},
   "outputs": [],
   "source": [
    "# coding:utf8\n",
    "import openpyxl\n",
    "import math\n",
    "import random\n",
    "import pprint as pp\n",
    "\n",
    "# Acessa a base de dados.\n",
    "dados = openpyxl.load_workbook(filename = 'Dados_MB3.xlsx')\n",
    "\n",
    "# Listas gerais.\n",
    "nomes_personagens = {} ; players = [] ; monstros_mundo = [] \n",
    "\n",
    "#Mestre coloca aqui quais são as raças permitidas.\n",
    "dict_racas = {'1':'aesires','2':'anoes','3':'elfos','4':'faens','5':'faunos','6':'firas','7':'humanos','8':'jubans','9':'levent','10':'mahoks','11':'tailox'}\n",
    "dict_classes = {'1':'bardo', '2':'druida','3':'espadachim','4':'feiticeiro','5':'guerreiro','6':'ladino','7':'paladino','8':'patrulheiro','9':'runico','11':'sacerdote','12':'xama'}\n",
    "\n",
    "# Funções gerais necessárias.\n",
    "dado = lambda: random.randint(1,6) # Retorna a rolagem de 1 dado.\n",
    "%run Lojas.ipynb\n",
    "%run Reacoes.ipynb\n",
    "%run Acoes_Excepcionais.ipynb\n",
    "%run Combate.ipynb\n",
    "%run Personagens.ipynb\n",
    "%run Monstros.ipynb\n",
    "sopro_fogo = False ; Golpe_Devastador = False"
   ]
  },
  {
   "cell_type": "markdown",
   "id": "97cc8397",
   "metadata": {},
   "source": [
    "# Tema do Jupyter Notebook"
   ]
  },
  {
   "cell_type": "code",
   "execution_count": null,
   "id": "847e5899",
   "metadata": {},
   "outputs": [],
   "source": [
    "!jt -t chesterish -T -N -kl -f code -fs 12 -nf loraserif -nfs 14 -tf georgiaserif -tfs 12 -dfs 11 -ofs 12 -cellw 1800 -lineh 190 -cursw 3"
   ]
  }
 ],
 "metadata": {
  "kernelspec": {
   "display_name": "Python 3 (ipykernel)",
   "language": "python",
   "name": "python3"
  },
  "language_info": {
   "codemirror_mode": {
    "name": "ipython",
    "version": 3
   },
   "file_extension": ".py",
   "mimetype": "text/x-python",
   "name": "python",
   "nbconvert_exporter": "python",
   "pygments_lexer": "ipython3",
   "version": "3.10.11"
  },
  "varInspector": {
   "cols": {
    "lenName": 16,
    "lenType": 16,
    "lenVar": 40
   },
   "kernels_config": {
    "python": {
     "delete_cmd_postfix": "",
     "delete_cmd_prefix": "del ",
     "library": "var_list.py",
     "varRefreshCmd": "print(var_dic_list())"
    },
    "r": {
     "delete_cmd_postfix": ") ",
     "delete_cmd_prefix": "rm(",
     "library": "var_list.r",
     "varRefreshCmd": "cat(var_dic_list()) "
    }
   },
   "types_to_exclude": [
    "module",
    "function",
    "builtin_function_or_method",
    "instance",
    "_Feature"
   ],
   "window_display": false
  }
 },
 "nbformat": 4,
 "nbformat_minor": 5
}
