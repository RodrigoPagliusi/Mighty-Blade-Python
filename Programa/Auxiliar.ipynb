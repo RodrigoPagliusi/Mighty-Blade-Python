{
 "cells": [
  {
   "cell_type": "code",
   "execution_count": null,
   "id": "7527c929",
   "metadata": {},
   "outputs": [],
   "source": [
    "Marlux.bonus_dano += 10\n",
    "Marlux.ataque(Verme_Gigante_1)"
   ]
  },
  {
   "cell_type": "markdown",
   "id": "a8befb93",
   "metadata": {},
   "source": [
    "# Testes"
   ]
  },
  {
   "cell_type": "markdown",
   "id": "8125256b",
   "metadata": {},
   "source": [
    "def testes(dif,attr,per):\n",
    "    print('A dificuldade é =',dif)\n",
    "    Di = per.bonus_dado ; acct = 0 ; ecct = 0 ; Di += attr\n",
    "    print('Bonus de rolagem =',per.bonus_dado)\n",
    "    print('Atributo é',attr,'=',attr,Di)\n",
    "    for d in range(per.qtd_dados):\n",
    "        di = dado() ; Di += di; print('Resultado do dado',d + 1,'=',di,',',Di)\n",
    "        if di == 6: acct += 1\n",
    "        elif di == 1: ecct += 1\n",
    "        if acct == 2 or ecct == 2: break\n",
    "    if acct == 2: print('Sucesso crítico!') ; return True\n",
    "    elif ecct == 2: print('Erro crítico!') ; return False\n",
    "    elif Di >= dif: print('Sucesso!') ; return True\n",
    "    else: return print('Falha!') ; return False"
   ]
  },
  {
   "cell_type": "markdown",
   "id": "73285d98",
   "metadata": {},
   "source": [
    "testes(10,Toddy.agilidade,Toddy)"
   ]
  },
  {
   "cell_type": "markdown",
   "id": "2a7346aa",
   "metadata": {
    "heading_collapsed": true
   },
   "source": [
    "# Leãonardo da Juba"
   ]
  },
  {
   "cell_type": "markdown",
   "id": "c15d937e",
   "metadata": {
    "heading_collapsed": true,
    "hidden": true
   },
   "source": [
    "## Corpo Pesado\n",
    "### mudar carga para For+2\n",
    "leaonardo.qtd_dados += 1\n",
    "\n",
    "leaonardo.qtd_dados -= 1"
   ]
  },
  {
   "cell_type": "markdown",
   "id": "4aa43721",
   "metadata": {
    "heading_collapsed": true,
    "hidden": true
   },
   "source": [
    "## Rugido de Ahogr\n",
    "if t.mana < 20: print('Nao pode usar essa habilidade.')\n",
    "else:\n",
    "    t.mana -= 20\n",
    "    while True:\n",
    "        try:\n",
    "            quantos_atingidos = input('Quantos atingidos foram atingidos? ')\n",
    "            if quantos_atingidos == 'sair': break\n",
    "            quantos_atingidos = int(quantos_atingidos)\n",
    "        except ValueError: print('Digite um número inteiro.') ; continue\n",
    "        else: break\n",
    "    for n in range(quantos_atingidos):\n",
    "        atingido = input('Nome do combatente ' + str(n + 1) + ' que foi atingido: ')\n",
    "        while atingido != 'sair':\n",
    "            if atingido in globals():\n",
    "                if globals()[atingido] in combatentes:\n",
    "                    if globals()[atingido].vida > 0: break\n",
    "            atingido = input('Escolha um atingido que esteja no combate: ')\n",
    "        if atingido == 'sair': break\n",
    "        if not testes(t.determinacao,globals()[atingido].vontade,globals()[atingido]):\n",
    "            globals()[atingido].condicao.append('amedrontado') ; print(globals()[atingido],'está amedrontado!')\n",
    "            globals()[atingido].condicao.append('atordoado') ; print(globals()[atingido],'está atordoado!')\n",
    "            globals()[atingido].defesa -= 1"
   ]
  },
  {
   "cell_type": "markdown",
   "id": "aa5d51cf",
   "metadata": {
    "hidden": true
   },
   "source": [
    "alvo = h\n",
    "alvo.condicao.remove('amedrontado')\n",
    "alvo.condicao.remove('atordoado')\n",
    "alvo.defesa += 1\n",
    "print(alvo.condicao)"
   ]
  },
  {
   "cell_type": "markdown",
   "id": "4ac4ea0c",
   "metadata": {
    "heading_collapsed": true
   },
   "source": [
    "# Marlux"
   ]
  },
  {
   "cell_type": "markdown",
   "id": "313bf358",
   "metadata": {
    "hidden": true
   },
   "source": [
    "## Corpo Pesado\n",
    "### mudar carga para For+2\n",
    "marlux.qtd_dados += 1\n",
    "\n",
    "marlux.qtd_dados -= 1"
   ]
  },
  {
   "cell_type": "markdown",
   "id": "4c28715d",
   "metadata": {
    "hidden": true
   },
   "source": [
    "## Caminhada Mágica\n",
    "print('\\nCaminhada Mágica!')\n",
    "magia(Marlux,10,9)"
   ]
  },
  {
   "cell_type": "markdown",
   "id": "f9e591a8",
   "metadata": {
    "hidden": true
   },
   "source": [
    "## Conjurar Arma dos Deuses\n",
    "print('\\nConjurar Arma dos Deuses!')\n",
    "magia(Marlux,20,10)"
   ]
  },
  {
   "cell_type": "markdown",
   "id": "d18ad817",
   "metadata": {
    "hidden": true
   },
   "source": [
    "'''força +1 discípulo da guerra\n",
    "Bônus dano por causa da arma dos deuses'''"
   ]
  },
  {
   "cell_type": "markdown",
   "id": "0d84fe6f",
   "metadata": {
    "hidden": true
   },
   "source": [
    "'''dobro de dano arma dos deuses'''"
   ]
  },
  {
   "cell_type": "markdown",
   "id": "d92d910a",
   "metadata": {
    "heading_collapsed": true
   },
   "source": [
    "# Toddy"
   ]
  },
  {
   "cell_type": "markdown",
   "id": "25bcfa6d",
   "metadata": {
    "hidden": true
   },
   "source": [
    "Toddy.bonus_dano += 8\n",
    "Toddy.ataque(Goblin_Arqueiro_5)\n",
    "Toddy.bonus_dano -= 8\n",
    "Goblin_Comum_4.ataque(Lorde_Anao)"
   ]
  },
  {
   "cell_type": "markdown",
   "id": "cbc34bd1",
   "metadata": {
    "hidden": true
   },
   "source": [
    "Dragao_de_Fogo_Jovem.vida -= 8"
   ]
  },
  {
   "cell_type": "markdown",
   "id": "6be9cca7",
   "metadata": {
    "hidden": true
   },
   "source": [
    "Marlux.mana += 9"
   ]
  },
  {
   "cell_type": "markdown",
   "id": "655a538e",
   "metadata": {
    "hidden": true
   },
   "source": [
    "'''Deslocamento + 1 e depois recalcular atributos\n",
    "Bonus dano +2 com ataques à distância\n",
    "Bonus dano devido à agilidade'''"
   ]
  },
  {
   "cell_type": "markdown",
   "id": "9766589b",
   "metadata": {
    "heading_collapsed": true,
    "hidden": true
   },
   "source": [
    "## Disparo Forte\n",
    "toddy.bonus_dano += 8\n",
    "alvo = \n",
    "toddy.ataque(alvo)\n",
    "toddy.bonus_dano -= 8"
   ]
  },
  {
   "cell_type": "markdown",
   "id": "f13fb2e9",
   "metadata": {},
   "source": [
    "# Bruce"
   ]
  },
  {
   "cell_type": "markdown",
   "id": "18f5435c",
   "metadata": {},
   "source": [
    "gh.bonus_dano += 3"
   ]
  },
  {
   "cell_type": "markdown",
   "id": "114b33e6",
   "metadata": {},
   "source": [
    "'''+2 bonus defesa para projeteis'''"
   ]
  },
  {
   "cell_type": "markdown",
   "id": "2f09084b",
   "metadata": {},
   "source": [
    "'''gh.defesa += 1'''\n",
    "'''+1 bonus_dado'''"
   ]
  },
  {
   "cell_type": "markdown",
   "id": "4e50c7b6",
   "metadata": {
    "heading_collapsed": true
   },
   "source": [
    "# Filler"
   ]
  },
  {
   "cell_type": "markdown",
   "id": "4f365f4c",
   "metadata": {},
   "source": [
    "# Lorde Anão"
   ]
  },
  {
   "cell_type": "markdown",
   "id": "cbcaa2fe",
   "metadata": {},
   "source": [
    "## Golpe Devastador\n",
    "Lorde_Anao.mana += 30\n",
    "alvo = Goblin_Mercador_2\n",
    "if Lorde_Anao.mana < 30: print(\"Não pode usar essa habilidade!\") \n",
    "else: \n",
    "    print(alvo.nome + ' Está prestes a receber um Golpe Devastador!') \n",
    "    Golpe_Devastador = True\n",
    "    Lorde_Anao.mana -= 30 ; Lorde_Anao.bonus_dano += Lorde_Anao.dano[0] ; Lorde_Anao.ataque(alvo) ; Lorde_Anao.bonus_dano -= Lorde_Anao.dano[0] \n",
    "    Golpe_Devastador = False"
   ]
  },
  {
   "cell_type": "markdown",
   "id": "6ccb2b51",
   "metadata": {},
   "source": [
    "## Grito e Guerra\n",
    "'''Dá +1 em bonus dado para quem for beneficiado'''"
   ]
  },
  {
   "cell_type": "markdown",
   "id": "c4bbc53d",
   "metadata": {
    "heading_collapsed": true
   },
   "source": [
    "# Filler"
   ]
  },
  {
   "cell_type": "markdown",
   "id": "bf4312aa",
   "metadata": {},
   "source": [
    "# Habilidades do Dragão de Fogo Jovem"
   ]
  },
  {
   "cell_type": "markdown",
   "id": "b58215b7",
   "metadata": {},
   "source": [
    "## Sopro de Fogo\n",
    "Dragao_de_Fogo_Jovem.mana -= 30\n",
    "sopro_fogo = True\n",
    "while True:\n",
    "    try:\n",
    "        quantos_atingidos = input('Quantos atingidos foram atingidos? ')\n",
    "        if quantos_atingidos == 'sair': break\n",
    "        quantos_atingidos = int(quantos_atingidos)\n",
    "    except ValueError: print('Digite um número inteiro.') ; continue\n",
    "    else: break\n",
    "for n in range(quantos_atingidos):\n",
    "    atingido = input('Nome do combatente ' + str(n + 1) + ' que foi atingido: ')\n",
    "    while atingido != 'sair':\n",
    "        if atingido in globals():\n",
    "            if globals()[atingido] in combatentes:\n",
    "                if globals()[atingido].vida > 0: break\n",
    "        atingido = input('Escolha um atingido que esteja no combate: ')\n",
    "    if atingido == 'sair': break\n",
    "    receber_dano(globals()[atingido],20,'fogo',Dragao_de_Fogo_Jovem)\n",
    "sopro_fogo = False"
   ]
  },
  {
   "cell_type": "markdown",
   "id": "482da635",
   "metadata": {
    "heading_collapsed": true
   },
   "source": [
    "## Reflexo Dracônico (1 vez por rodada)\n",
    "alvo = Bruce\n",
    "#print(p.bonus_dado , p.qtd_dados)\n",
    "alvo.ataque(Dragao_de_Fogo_Jovem)\n",
    "Dragao_de_Fogo_Jovem.ataque(alvo)"
   ]
  },
  {
   "cell_type": "markdown",
   "id": "c078b661",
   "metadata": {
    "heading_collapsed": true
   },
   "source": [
    "# Filler"
   ]
  },
  {
   "cell_type": "markdown",
   "id": "1d5c2272",
   "metadata": {},
   "source": [
    "# Habilidades Lobo Bestial"
   ]
  },
  {
   "cell_type": "markdown",
   "id": "15d08b60",
   "metadata": {},
   "source": [
    "## Golpe Devastador\n",
    "Qual_Lobo = 1 ; alvo = Marlux; lobo = globals()['Lobo_Bestial_'+str(Qual_Lobo)]\n",
    "if lobo.mana < 30: print(\"Não pode usar essa habilidade!\")\n",
    "else:\n",
    "    print(alvo.nome + ' Está prestes a receber um Golpe Devastador!')\n",
    "    Golpe_Devastador = True ; lobo.mana -= 30\n",
    "    lobo.bonus_dano += lobo.dano[0] ; lobo.ataque(alvo) ; lobo.bonus_dano -= lobo.dano[0]\n",
    "    Golpe_Devastador = False"
   ]
  },
  {
   "cell_type": "markdown",
   "id": "303f5042",
   "metadata": {},
   "source": [
    "Lobo_Bestial_2.vida += 12\n",
    "Lorde_Anao.bonus_dano -= 12\n",
    "print(Lobo_Bestial_1.bonus_dano)"
   ]
  },
  {
   "cell_type": "markdown",
   "id": "66c00f2e",
   "metadata": {},
   "source": [
    "Marlux.qtd_dados += 1\n",
    "Marlux.ataque(Lobo_Bestial_1)\n",
    "Marlux.qtd_dados -= 1"
   ]
  },
  {
   "cell_type": "markdown",
   "id": "b7d3d8e3",
   "metadata": {},
   "source": [
    "Marlux.condicao.remove('paralisado')"
   ]
  },
  {
   "cell_type": "markdown",
   "id": "3ec19aa9",
   "metadata": {
    "heading_collapsed": true
   },
   "source": [
    "# Filler"
   ]
  },
  {
   "cell_type": "markdown",
   "id": "245136f9",
   "metadata": {},
   "source": [
    "# Habilidades Goblin Comum, Arqueiro, Soldado e Xamã"
   ]
  },
  {
   "cell_type": "markdown",
   "id": "0e56b38e",
   "metadata": {
    "heading_collapsed": true
   },
   "source": [
    "## Combate em Grupo com e sem surpresa\n",
    "atacante = Goblin_Comum_3 ; alvo = Marlux\n",
    "atacante.bonus_dado += 1 ; print('Bonus de ' + str(atacante.bonus_dado) +' aliado(s).') # Aliados\n",
    "#atacante.qtd_dados += 1 ; print('Surpresa!') # Surpresa\n",
    "atacante.ataque(alvo)\n",
    "#atacante.qtd_dados -= 1 #Surpresa\n",
    "atacante.bonus_dado -= 1 # Aliados"
   ]
  },
  {
   "cell_type": "markdown",
   "id": "7ebfdb1a",
   "metadata": {
    "heading_collapsed": true
   },
   "source": [
    "# Filler"
   ]
  },
  {
   "cell_type": "markdown",
   "id": "18baec64",
   "metadata": {},
   "source": [
    "# Habilidades Goblin Xamã"
   ]
  },
  {
   "cell_type": "markdown",
   "id": "63e0a8c2",
   "metadata": {},
   "source": [
    "## Rajada Elemental\n",
    "usuario = Goblin_Xama_1\n",
    "#atacante.bonus_dado += 1 ; print('Bonus de ' + str(atacante.bonus_dado) +' aliado(s).') # Aliados\n",
    "#atacante.qtd_dados += 1 ; print('Surpresa!') # Surpresa\n",
    "mana = 0\n",
    "dificuldade = 8\n",
    "alvo = x\n",
    "magic = magia(usuario,mana,dificuldade) # Verificar se o personagem tem Cerne Arcano ou Cerne Místico\n",
    "if magic == True:\n",
    "    print('Acertou a Rajada elemental!')\n",
    "    tipo_dano = input('Qual o tipo de dano? (fogo,frio,eletr) ')\n",
    "    while tipo_dano != 'fogo' and tipo_dano != 'frio' and tipo_dano != 'eletr': tipo_dano = input('Qual o tipo de dano? ')\n",
    "    receber_dano(alvo,8,tipo_dano,usuario)\n",
    "elif magic == \"sucesso critico\":\n",
    "    print('\\n1 - Dobrar dano.\\n2 - Não consumir mana.\\n3 - outro') ; efeito = input ('Qual o efeito desejado? ')\n",
    "    while efeito != '1' and efeito != '2' and efeito != '3': efeito = input ('Qual o efeito desejado? ')\n",
    "    if efeito == '1': \n",
    "        usuario.mana -= mana\n",
    "        tipo_dano = input('Qual o tipo de dano? (fogo,frio,eletr) ')\n",
    "        while tipo_dano != 'fogo' and tipo_dano != 'frio' and tipo_dano != 'eletr': tipo_dano = input('Qual o tipo de dano? ')\n",
    "        receber_dano(alvo,16,tipo_dano,usuario)\n",
    "    if efeito == '2': \n",
    "        tipo_dano = input('Qual o tipo de dano? (fogo,frio,eletr) ')\n",
    "        while tipo_dano != 'fogo' and tipo_dano != 'frio' and tipo_dano != 'eletr': tipo_dano = input('Qual o tipo de dano? ')\n",
    "        receber_dano(alvo,8,tipo_dano,alvo)\n",
    "    if efeito == '3': print('Programar o outro.')\n",
    "#atacante.qtd_dados -= 1 #Surpresa\n",
    "#atacante.bonus_dado -= 1 # Aliados"
   ]
  },
  {
   "cell_type": "markdown",
   "id": "4144f863",
   "metadata": {
    "heading_collapsed": true
   },
   "source": [
    "## Enfurecer Goblin\n",
    "usuario = Goblin_Xama_2 ; alvo = Goblin_Soldado_3\n",
    "usuario.mana -= 20\n",
    "alvo.forca -= 4\n",
    "alvo.bonus_dano -= 4\n",
    "print('\\nO '+ alvo.nome + ' ficou enfurecido por 10 turnos!')"
   ]
  },
  {
   "cell_type": "markdown",
   "id": "6d50d6d8",
   "metadata": {
    "heading_collapsed": true
   },
   "source": [
    "# Filler"
   ]
  },
  {
   "cell_type": "markdown",
   "id": "0ad1be40",
   "metadata": {},
   "source": [
    "# Habilidades Goblin Soldado"
   ]
  },
  {
   "cell_type": "markdown",
   "id": "6377ca27",
   "metadata": {
    "heading_collapsed": true
   },
   "source": [
    "## Ataque Giratório\n",
    "'''Faça vários ataques em quem estiver ao alcance.'''\n",
    "girador = Goblin_Soldado_2 ; print('\\n')\n",
    "if girador.mana >= 10:\n",
    "    girador.mana -= 10\n",
    "    target = x\n",
    "    print(target.nome + ' foi pego no giro!') ; girador.ataque(target)\n",
    "    target = t\n",
    "    print(target.nome + ' foi pego no giro!') ; girador.ataque(target)\n",
    "    target = p\n",
    "    print(target.nome + ' foi pego no giro!') ; girador.ataque(target)\n",
    "else: print('Não tem mana o suficiente!')"
   ]
  },
  {
   "cell_type": "markdown",
   "id": "973eeedd",
   "metadata": {
    "heading_collapsed": true
   },
   "source": [
    "# Filler"
   ]
  },
  {
   "cell_type": "markdown",
   "id": "14417648",
   "metadata": {
    "heading_collapsed": true
   },
   "source": [
    "# Habilidades Líder Goblin"
   ]
  },
  {
   "cell_type": "markdown",
   "id": "e0383868",
   "metadata": {
    "heading_collapsed": true,
    "hidden": true
   },
   "source": [
    "## Golpe Devastador\n",
    "alvo = t\n",
    "if Lider_Goblin.mana < 30: print(\"\\nNão pode usar essa habilidade!\")\n",
    "else:\n",
    "    print('\\n' + alvo.nome + ' Está prestes a receber um Golpe Devastador!')\n",
    "    Golpe_Devastador = True ; Lider_Goblin.mana -= 30\n",
    "    if Lider_Goblin.forca == 7: Lider_Goblin.bonus_dano += 4\n",
    "    Lider_Goblin.bonus_dano += Lider_Goblin.dano[0] ; Lider_Goblin.ataque(alvo) ; Lider_Goblin.bonus_dano -= Lider_Goblin.dano[0]\n",
    "    if Lider_Goblin.forca == 7: Lider_Goblin.bonus_dano -= 4\n",
    "    Golpe_Devastador = False"
   ]
  },
  {
   "cell_type": "markdown",
   "id": "35ce54b4",
   "metadata": {
    "heading_collapsed": true
   },
   "source": [
    "# Filler"
   ]
  },
  {
   "cell_type": "markdown",
   "id": "31a4b4ca",
   "metadata": {
    "heading_collapsed": true
   },
   "source": [
    "# Habilidades Verme Gigante"
   ]
  },
  {
   "cell_type": "markdown",
   "id": "43dbf7ac",
   "metadata": {
    "heading_collapsed": true,
    "hidden": true
   },
   "source": [
    "## Cavar\n",
    "'''Um verme cava e ataca de surpresa enquanto o outro luta!'''\n",
    "Di = 0 ; verm = Verme_Gigante_1\n",
    "if 'cavando' in verm.condicao: print('Já está cavando!')\n",
    "else:\n",
    "    print(verm.nome + ' está cavando!')\n",
    "    for d in range(2):\n",
    "        di = dado() ; Di += di ; print('Dado ' + str(d) + ' = ',di)\n",
    "    if Di>= 11: \n",
    "        print('Parte da construção desmoronou!')\n",
    "        rdcom = random.choice(combatentes) ; Di = 0\n",
    "        for d in range(2):\n",
    "            di = dado() ; Di += di ; print('Dado ' + str(d) + ' = ',di)\n",
    "        if (Di + rdcom.agilidade >= 10) or (Di + rdcom.forca >= 10):\n",
    "            print('Os entulhos não machucaram ninguém!')\n",
    "        else: rdcom.vida -= 12 ; print(rdcom.nome + ' se machucou com a queda dos entulhos e perdeu 12 de vida!')\n",
    "    else: print('As construção tremeram, mas estão firmes.')\n",
    "    verm.condicao.append('cavando')"
   ]
  },
  {
   "cell_type": "markdown",
   "id": "94fa559b",
   "metadata": {
    "hidden": true
   },
   "source": [
    "## Ataque depois de cavar\n",
    "verm = Verme_Gigante_1 ; target = t\n",
    "print('\\n' + verm.nome + ' vai atacar ' + target.nome + ' de supresa por debaixo da terra!')\n",
    "verm.qtd_dados += 1\n",
    "verm.ataque(target)\n",
    "verm.qtd_dados -= 1\n",
    "verm.condicao.remove('cavando')"
   ]
  },
  {
   "cell_type": "markdown",
   "id": "4e3eae77",
   "metadata": {
    "heading_collapsed": true
   },
   "source": [
    "# Filler"
   ]
  },
  {
   "cell_type": "markdown",
   "id": "4de30eed",
   "metadata": {
    "heading_collapsed": true
   },
   "source": [
    "# Habilidades Troll"
   ]
  },
  {
   "cell_type": "markdown",
   "id": "4859458e",
   "metadata": {
    "heading_collapsed": true,
    "hidden": true
   },
   "source": [
    "## Regeneração\n",
    "Troll.vida = 50\n",
    "target = x\n",
    "Troll.ataque(target)"
   ]
  },
  {
   "cell_type": "markdown",
   "id": "d3e6341a",
   "metadata": {
    "heading_collapsed": true
   },
   "source": [
    "# Filler"
   ]
  },
  {
   "cell_type": "markdown",
   "id": "e857944a",
   "metadata": {
    "heading_collapsed": true
   },
   "source": [
    "# Habilidades Guardião do Cálice"
   ]
  },
  {
   "cell_type": "markdown",
   "id": "c398a79d",
   "metadata": {
    "heading_collapsed": true,
    "hidden": true
   },
   "source": [
    "## Golpe Devastador\n",
    "alvo = Dragao_de_Fogo_Jovem\n",
    "if Guardiao_do_Calice.mana < 30: print(\"\\nNão tem mana para usar essa habilidade!\")\n",
    "else:\n",
    "    print('\\n' + alvo.nome + ' Está prestes a receber um Golpe Devastador!')\n",
    "    Golpe_Devastador = True ; Guardiao_do_Calice.mana -= 30\n",
    "    Guardiao_do_Calice.bonus_dano += Guardiao_do_Calice.dano[0] ; Guardiao_do_Calice.ataque(alvo) ; Guardiao_do_Calice.bonus_dano -= Guardiao_do_Calice.dano[0]\n",
    "    Golpe_Devastador = False"
   ]
  },
  {
   "cell_type": "markdown",
   "id": "51f0424d",
   "metadata": {
    "heading_collapsed": true
   },
   "source": [
    "# Filler"
   ]
  },
  {
   "cell_type": "markdown",
   "id": "ffd37750",
   "metadata": {
    "heading_collapsed": true
   },
   "source": [
    "# Efeitos Condicoes"
   ]
  },
  {
   "cell_type": "markdown",
   "id": "179889ec",
   "metadata": {
    "heading_collapsed": true,
    "hidden": true
   },
   "source": [
    "## Ataque a um paralisado ou surpreso\n",
    "atacante = \n",
    "target = \n",
    "atacante.qtd_dados += 1 ; atacante.ataque(target) ; atacante.qtd_dados -= 1"
   ]
  },
  {
   "cell_type": "markdown",
   "id": "9f3a0272",
   "metadata": {
    "heading_collapsed": true,
    "hidden": true
   },
   "source": [
    "## Levantar\n",
    "levantou = x\n",
    "levantou.condicao.remove('caido')\n",
    "levantou.bonus_dado += 2"
   ]
  },
  {
   "cell_type": "markdown",
   "id": "5138e6b2",
   "metadata": {
    "heading_collapsed": true
   },
   "source": [
    "# Extra"
   ]
  },
  {
   "cell_type": "markdown",
   "id": "6ccec132",
   "metadata": {
    "hidden": true
   },
   "source": [
    "## Golpe Devastador\n",
    "## Golpe Devastador Personagem (ELES PRECISAM ESPECIFICAR EM QUAL MÃO ESTÃO AS SUAS ARMAS!)\n",
    "'''escolha_ataque = \n",
    "hahahahah.bonus_dano += self.forca + self.maos[escolha_ataque].dano\n",
    "ataque(hahaha,alvo)\n",
    "hahahahah.bonus_dano -= self.forca + self.maos[escolha_ataque].dano'''\n",
    "\n",
    "escolha_ataque = x\n",
    "hahahahah.bonus_dano += self.dano[escolha_ataque]\n",
    "ataque(hahaha,alvo)\n",
    "hahahahah.bonus_dano -= self.dano[escolha_ataque]\n",
    "\n",
    "# Efeitos Devastadores\n",
    "print('Efeitos devastadores!')\n",
    "atacante = \n",
    "alvo = \n",
    "acct = 0 ; ecct = 0 ; Di = atacante.forca ; print('Rolagem do atacante:')\n",
    "for d in range(atacante.qtd_dados):\n",
    "    di = dado() ; Di += di ; print('Dado ' + str(d) + '= ',di)\n",
    "    if di == 6: acct += 1\n",
    "    elif di == 1: ecct += 1\n",
    "    if acct == 2 or ecct == 2: break\n",
    "Di_atacante = Di\n",
    "if acct == 2: \n",
    "    alvo.condicao.append('paralisado') ; print('Acerto crítico do atacante!') ; print(alvo.nome,'está paralisado!') ; return\n",
    "elif ecct == 2: print('Erro crítico do atacante!') ; return\n",
    "\n",
    "Di = alvo.forca ; acct = 0 ; ecct = 0 ; print('Rolagem do defensor:')\n",
    "for d in range(alvo.qtd_dados):\n",
    "    di = dado() ; Di += di ; print('Dado ' + str(d) + '= ',di)\n",
    "    if di == 6: acct += 1\n",
    "    elif di == 1: ecct += 1\n",
    "    if acct == 2 or ecct == 2: break\n",
    "Di_defensor = Di\n",
    "if acct == 2: print('Acerto crítico do defensor!') ; return\n",
    "elif ecct == 2: \n",
    "    alvo.condicao.append('paralisado') ; print('Erro crítico do defensor!') ; print(alvo.nome,'está paralisado!') ; return\n",
    "\n",
    "if Di_atacante >= Di_defensor:\n",
    "    alvo.condicao.append('paralisado') ; print(alvo.nome,'está paralisado')\n",
    "else: print(alvo.nome,'aguentou a pressão!')"
   ]
  },
  {
   "cell_type": "markdown",
   "id": "957229e5",
   "metadata": {
    "hidden": true
   },
   "source": [
    "## Inflamar\n",
    "usuario = t\n",
    "mana = 10\n",
    "dificuldade = 8\n",
    "alvo = h\n",
    "magic = magia(usuario,mana,dificuldade) # Verificar se o personagem tem Cerne Arcano ou Cerne Místico\n",
    "if magic == True: receber_dano(alvo,12,'fogo',usuario)\n",
    "elif magic == \"sucesso critico\":\n",
    "    print('\\n1 - Dobrar dano.\\n2 - Não consumir mana.\\n3 - outro') ; efeito = input ('Qual o efeito desejado? ')\n",
    "    while efeito != '1' and efeito != '2' and efeito != '3': efeito = input ('Qual o efeito desejado? ')\n",
    "    if efeito == '1': usuario.mana -= mana ; receber_dano(alvo,24,'fogo',t)\n",
    "    if efeito == '2': receber_dano(alvo,12,'fogo',t)\n",
    "    if efeito == '3': print('hahahaha')\n",
    "    print('Mana de',usuario,'=',t.mana)\n",
    "reacao_geral(alvo)"
   ]
  }
 ],
 "metadata": {
  "kernelspec": {
   "display_name": "Python 3 (ipykernel)",
   "language": "python",
   "name": "python3"
  },
  "language_info": {
   "codemirror_mode": {
    "name": "ipython",
    "version": 3
   },
   "file_extension": ".py",
   "mimetype": "text/x-python",
   "name": "python",
   "nbconvert_exporter": "python",
   "pygments_lexer": "ipython3",
   "version": "3.10.11"
  },
  "varInspector": {
   "cols": {
    "lenName": 16,
    "lenType": 16,
    "lenVar": 40
   },
   "kernels_config": {
    "python": {
     "delete_cmd_postfix": "",
     "delete_cmd_prefix": "del ",
     "library": "var_list.py",
     "varRefreshCmd": "print(var_dic_list())"
    },
    "r": {
     "delete_cmd_postfix": ") ",
     "delete_cmd_prefix": "rm(",
     "library": "var_list.r",
     "varRefreshCmd": "cat(var_dic_list()) "
    }
   },
   "types_to_exclude": [
    "module",
    "function",
    "builtin_function_or_method",
    "instance",
    "_Feature"
   ],
   "window_display": false
  }
 },
 "nbformat": 4,
 "nbformat_minor": 5
}
