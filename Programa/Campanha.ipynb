{
 "cells": [
  {
   "cell_type": "markdown",
   "id": "87f6f5b1",
   "metadata": {},
   "source": [
    "# Pré - Processamento"
   ]
  },
  {
   "cell_type": "markdown",
   "id": "591a6e15",
   "metadata": {},
   "source": [
    "## Tema do Jupyter Notebook"
   ]
  },
  {
   "cell_type": "code",
   "execution_count": null,
   "id": "d9980cdf",
   "metadata": {},
   "outputs": [],
   "source": [
    "!jt -t chesterish -T -N -kl -f code -fs 12 -nf loraserif -nfs 14 -tf georgiaserif -tfs 12 -dfs 11 -ofs 12 -cellw 1800 -lineh 190 -cursw 3"
   ]
  },
  {
   "cell_type": "markdown",
   "id": "6c80214a",
   "metadata": {},
   "source": [
    "## Criar Personagens"
   ]
  },
  {
   "cell_type": "code",
   "execution_count": null,
   "id": "56360542",
   "metadata": {},
   "outputs": [],
   "source": [
    "%run Iniciar.ipynb"
   ]
  },
  {
   "cell_type": "code",
   "execution_count": null,
   "id": "e08ff9a0",
   "metadata": {
    "scrolled": true
   },
   "outputs": [],
   "source": [
    "criar_personagem()"
   ]
  },
  {
   "cell_type": "code",
   "execution_count": null,
   "id": "38f376bc",
   "metadata": {},
   "outputs": [],
   "source": [
    "Toddy.__dict__"
   ]
  },
  {
   "cell_type": "code",
   "execution_count": null,
   "id": "e0eb2ca0",
   "metadata": {},
   "outputs": [],
   "source": [
    "players"
   ]
  },
  {
   "cell_type": "code",
   "execution_count": null,
   "id": "e470cae5",
   "metadata": {},
   "outputs": [],
   "source": [
    "pp.pprint(nomes_personagens)"
   ]
  },
  {
   "cell_type": "markdown",
   "id": "17d3bd34",
   "metadata": {
    "heading_collapsed": true
   },
   "source": [
    "## Lojas"
   ]
  },
  {
   "cell_type": "code",
   "execution_count": null,
   "id": "4409a938",
   "metadata": {
    "hidden": true,
    "scrolled": true
   },
   "outputs": [],
   "source": [
    "loja_armas_corporais(globals()[input('Quem deseja comprar na Loja de Armas Corporais? ')]) "
   ]
  },
  {
   "cell_type": "code",
   "execution_count": null,
   "id": "b7fcd120",
   "metadata": {
    "hidden": true,
    "scrolled": true
   },
   "outputs": [],
   "source": [
    "loja_armaduras(globals()[input('Quem deseja comprar na Loja de Armaduras? ')])"
   ]
  },
  {
   "cell_type": "code",
   "execution_count": null,
   "id": "c042894f",
   "metadata": {
    "hidden": true,
    "scrolled": true
   },
   "outputs": [],
   "source": [
    "loja_armas_distancia(globals()[input('Quem deseja comprar na Loja de Armas de Distância? ')]) "
   ]
  },
  {
   "cell_type": "code",
   "execution_count": null,
   "id": "f4fbc828",
   "metadata": {
    "hidden": true,
    "scrolled": true
   },
   "outputs": [],
   "source": [
    "loja_municao(globals()[input('Quem deseja comprar na Loja de Munições? ')]) "
   ]
  },
  {
   "cell_type": "code",
   "execution_count": null,
   "id": "478fbc1a",
   "metadata": {
    "hidden": true,
    "scrolled": true
   },
   "outputs": [],
   "source": [
    "loja_instrumentos_musicais(globals()[input('Quem deseja comprar na Loja de Instrumentos Musicais? ')])"
   ]
  },
  {
   "cell_type": "code",
   "execution_count": null,
   "id": "90c20eed",
   "metadata": {
    "hidden": true,
    "scrolled": true
   },
   "outputs": [],
   "source": [
    "loja_itens_conjuracao(globals()[input('Quem deseja comprar na Loja de ítens de conjuração? ')]) "
   ]
  },
  {
   "cell_type": "code",
   "execution_count": null,
   "id": "27810f52",
   "metadata": {
    "hidden": true,
    "scrolled": true
   },
   "outputs": [],
   "source": [
    "loja_itens_gerais(globals()[input('Quem deseja comprar na Loja de Itens Gerais? ')])"
   ]
  },
  {
   "cell_type": "code",
   "execution_count": null,
   "id": "458caaec",
   "metadata": {
    "hidden": true,
    "scrolled": true
   },
   "outputs": [],
   "source": [
    "loja_pocoes(globals()[input('Quem deseja comprar na Loja de Poções? ')])"
   ]
  },
  {
   "cell_type": "code",
   "execution_count": null,
   "id": "07c276f5",
   "metadata": {
    "hidden": true
   },
   "outputs": [],
   "source": [
    "Toddy.equipar_maos()"
   ]
  },
  {
   "cell_type": "code",
   "execution_count": null,
   "id": "48baf52a",
   "metadata": {
    "hidden": true,
    "scrolled": true
   },
   "outputs": [],
   "source": [
    "Marlux.equipar_corpo()"
   ]
  },
  {
   "cell_type": "code",
   "execution_count": null,
   "id": "077b807e",
   "metadata": {
    "hidden": true,
    "scrolled": true
   },
   "outputs": [],
   "source": [
    "venda_itens(globals()[input('Quem quer ganhar um dindin? ')])"
   ]
  },
  {
   "cell_type": "code",
   "execution_count": null,
   "id": "1d0c8f7c",
   "metadata": {
    "hidden": true,
    "scrolled": true
   },
   "outputs": [],
   "source": [
    "Marlux.recalcular_atributos()"
   ]
  },
  {
   "cell_type": "code",
   "execution_count": null,
   "id": "8beddaf5",
   "metadata": {
    "hidden": true
   },
   "outputs": [],
   "source": [
    "Marlux.forca += 1"
   ]
  },
  {
   "cell_type": "code",
   "execution_count": null,
   "id": "2265ce2d",
   "metadata": {
    "hidden": true
   },
   "outputs": [],
   "source": [
    "Toddy.__dict__"
   ]
  },
  {
   "cell_type": "markdown",
   "id": "9279fad6",
   "metadata": {
    "heading_collapsed": true
   },
   "source": [
    "## Monstros"
   ]
  },
  {
   "cell_type": "code",
   "execution_count": null,
   "id": "481d8385",
   "metadata": {
    "hidden": true,
    "scrolled": true
   },
   "outputs": [],
   "source": [
    "criar_monstro('Dragao_de_Fogo_Jovem') ; criar_monstro('Ogro',3) ; criar_monstro('Troll') ; \n",
    "criar_monstro('Lobo_Bestial',3) ; criar_monstro('Verme_Gigante',2) ; criar_monstro('Guardiao_do_Calice') ; \n",
    "criar_monstro('Goblin_Comum',10) ; criar_monstro('Goblin_Mercador',2) ; criar_monstro('Goblin_Arqueiro',7)\n",
    "criar_monstro('Goblin_Xama',4) ; criar_monstro('Goblin_Soldado',6) ; criar_monstro('Lider_Goblin') ; criar_monstro('Lorde_Anao')"
   ]
  },
  {
   "cell_type": "code",
   "execution_count": null,
   "id": "b18cc2f6",
   "metadata": {
    "hidden": true
   },
   "outputs": [],
   "source": [
    "monstros_mundo"
   ]
  },
  {
   "cell_type": "markdown",
   "id": "d5b27a02",
   "metadata": {},
   "source": [
    "# O Cálice das Fadas"
   ]
  },
  {
   "cell_type": "markdown",
   "id": "38df5747",
   "metadata": {},
   "source": [
    "## Início"
   ]
  },
  {
   "cell_type": "markdown",
   "id": "464c38c0",
   "metadata": {},
   "source": [
    "Gladstad é uma pequena cidade do Reino de Glasgow.\n",
    "\n",
    "Bem pacata, com economia mais agrária e uma pequena nobreza local que governa a cidade.\n",
    "\n",
    "É uma cidade de passagem que se encontra no meio de várias rotas diferentes.\n",
    "\n",
    "As pessoas da localidade vêem a oportunidade de se tornar um importante centro comercial,\n",
    "\n",
    "mas os de cima, que tem recursos de sobra, parece que não tem muito interesse pelas falas dos mais baixos.\n",
    "\n",
    "Os heróis resolvem dormir na taverna, já que o entorno não é muito seguro à noite."
   ]
  },
  {
   "cell_type": "code",
   "execution_count": null,
   "id": "328c29e5",
   "metadata": {
    "scrolled": true
   },
   "outputs": [],
   "source": [
    "servicos = {}\n",
    "for col in dados['Servicos'].iter_cols(min_col = 1, min_row = 2, max_row = 31, max_col = 1):\n",
    "    for cell in col: servicos[cell.value] = cell.offset(row = 0,column = 1).value\n",
    "serviços(globals()[input('Bem vindo! Descanse bem! Qual é o seu nome? ')])"
   ]
  },
  {
   "cell_type": "code",
   "execution_count": null,
   "id": "2d2e9019",
   "metadata": {},
   "outputs": [],
   "source": [
    "%run Auxiliar.ipynb"
   ]
  },
  {
   "cell_type": "markdown",
   "id": "473aadf9",
   "metadata": {},
   "source": [
    "### Acontecimento"
   ]
  },
  {
   "cell_type": "markdown",
   "id": "82f3d4d8",
   "metadata": {},
   "source": [
    "Na manhã seguinte, todos ouvem gritos de desespero. \n",
    "\n",
    "Sons de construções se quebrando.\n",
    "\n",
    "Sons de soldados gritando ordens. \n",
    "Choros intensos e lamentos por entes queridos.\n",
    "\n",
    "Um Dragão está atacando a cidade e destruindo tudo à sua volta! \n",
    "\n",
    "As casas estão pegando fogo!\n",
    "\n",
    "As pessoas apelam para vocês lutarem contra o monstro!"
   ]
  },
  {
   "cell_type": "code",
   "execution_count": null,
   "id": "d9e26ea3",
   "metadata": {},
   "outputs": [],
   "source": [
    "# Luta contra o Dragão\n",
    "a = [Dragao_de_Fogo_Jovem]\n",
    "combatentes = [] ; porrada = players.copy() ; porrada.extend(a) ; calculo_iniciativa(porrada) ; print(combatentes)"
   ]
  },
  {
   "cell_type": "code",
   "execution_count": null,
   "id": "1c4d9cc6",
   "metadata": {
    "scrolled": true
   },
   "outputs": [],
   "source": [
    "combate(combatentes)"
   ]
  },
  {
   "cell_type": "markdown",
   "id": "b8278938",
   "metadata": {},
   "source": [
    "#### Inesperado"
   ]
  },
  {
   "cell_type": "markdown",
   "id": "2eaa8184",
   "metadata": {},
   "source": [
    "O dragão voa e se afasta do combate.\n",
    "Se dirige até a torre de vigia da cidade.\n",
    "Do alto dela dá um grande rugido dizendo:\n",
    ">“Escutem-me reles humanos! Eu sou Ghoantharen, o terrível, e estou a procura de\n",
    "algo que vocês roubaram de mim há 300 anos atrás. Me devolvam o Cálice das Fadas e sua\n",
    "patética cidade será poupada. Enquanto não me devolverem, irei devorar uma família por dia.”\n",
    "\n",
    "Após isto, ele dá uma rasante e pega com suas garras uma mulher e duas crianças e \n",
    "voa por cima da floresta até as montanhas distantes.\n",
    "A cidade está em chamas e há muitas pessoas feridas nas ruas. Querem ajudá-las? # ver prêmio para isso"
   ]
  },
  {
   "cell_type": "markdown",
   "id": "d0047537",
   "metadata": {},
   "source": [
    "No meio da confusão, a plebe se reúne em frente à casa grande do lorde e pedem que ele faça alguma coisa.\n",
    "Ele aparece junto das pessoas (com dois guarda costas e montado a cavalo) e pergunta:\n",
    "\n",
    ">“Há alguém aqui bravo o suficiente para ajudar com este problema? \n",
    "Estou oferecendo uma boa quantia para os bravos heróis que aceitarem esta missão!” \n",
    "\n",
    "Após isto, o Lorde parte para a sua casa enquanto as pessoas gritam e pedem ajuda. Elas pedem ajuda particularmente para os heróis."
   ]
  },
  {
   "cell_type": "markdown",
   "id": "c9006a39",
   "metadata": {},
   "source": [
    "##### ?"
   ]
  },
  {
   "cell_type": "markdown",
   "id": "862c1679",
   "metadata": {},
   "source": [
    "**Desejam ficar na rua ou ir para a casa do lorde?**"
   ]
  },
  {
   "cell_type": "markdown",
   "id": "49ef0d98",
   "metadata": {},
   "source": [
    "###### Ficar na rua"
   ]
  },
  {
   "cell_type": "markdown",
   "id": "497869c8",
   "metadata": {},
   "source": [
    "Pessoa na rua: \n",
    ">\"Está é uma velha lenda da cidade.\n",
    "Há 300 anos atrás, quando a cidade de Gladstad foi fundada, nossos ancestrais exploradores\n",
    "encontraram um baú de pedra e dentro um cálice dourado ornamentado com pedras preciosas. O\n",
    "líder da expedição, capitão Thrun, logo suspeitou que o artefato fosse amaldiçoado, pois depois que abriram o\n",
    "baú, alguns de seus homens ficaram doentes. Então ele a escondeu no meio da floresta do\n",
    "Tronco-Oco, aquela no caminho das montanhas, e lá ele mandou construir um sarcófago de pedra para que ninguém possa abrir. \n",
    "Essa floresta é bem densa e cheia de perigos. Muitos goblins vivem lá dentro, além de animais selvagens e de vez em quando eles nos incomodam.\n",
    "Nesta cidade só os soldados do Lorde Gunther são treinados para enfrentar esses perigos, mas ele não gosta de os ter longe de seu paláciozinho.\n",
    "Agora, além dos soldados, nós temos... vocês.\""
   ]
  },
  {
   "cell_type": "markdown",
   "id": "a33685ad",
   "metadata": {},
   "source": [
    "###### Casa do Lorde"
   ]
  },
  {
   "cell_type": "markdown",
   "id": "7dc0ecdd",
   "metadata": {},
   "source": [
    "O lorde os recebe com satisfação. Ele oferece bebidas e uma mesa farta com comidas varias e garçons os atendendendo.\n",
    "Ele diz: \n",
    ">\"Vão me acusar de não cuidar dessas terras direito e preciso sustentar minha família!\"\n",
    "\n",
    "Um dos guardas, o Thorium fala em lágrimas: \n",
    ">\"Senhor, minha família foi roubada pelo dragão! E muitas pessoas da cidade passarão fome com a destruição!\"\n",
    "\n",
    "O lorde manda todos saírem da sala, menos os heróis. Quando todos saem ele diz:\n",
    ">\"Essas pessoas são um saco, só vivem daquilo que EU os proporciono. Iam todos morrer se eu não os deixasse viver nas MINHAS terras e comer da MINHA comida.\n",
    "Mas tenho de ser político, certo? Alguns não gostam das verdades ditas. Mas uma verdade aceita de ser dita é que esse povo ama heróis. Quero que vocês\n",
    "sejam os heróis que eu darei ao povo! Que grande privilégio de vocês, não?\"\n",
    "\n",
    "Após uma risadinha de canto, ele prossegue: \n",
    ">\"Estou disposto a lhes oferecer 600 moedas para cada um se trazerem o cálice até mim.\n",
    "Assim poderei negociar com este maldito dragão para que saia das MINHAS terras.\""
   ]
  },
  {
   "cell_type": "markdown",
   "id": "d33e25f6",
   "metadata": {},
   "source": [
    "##  De novo?"
   ]
  },
  {
   "cell_type": "markdown",
   "id": "8773b54e",
   "metadata": {},
   "source": [
    "Está de noite e os heróis vão descansar na taverna para se aventurar no dia seguinte. Um homem de capuz aparece para falar com eles. Ele mostra o rosto e se mostra ser o guarda. \n",
    "Ele diz: \n",
    "> \"Eu vou com vocês. Preciso resgatar minha família e usar minha espada para algo bom, \n",
    "pelo menos uma vez na vida. Eu sei onde o dragão está e como chegar lá.\n",
    "Esqueçam esse maldito cálice, ele está amaldiçoado! Só um tolo busca uma maldição. \n",
    "Mas nós, todos bravos aventureiros, conseguimos dar uma fim neste dragão!\n",
    "Eu não posso perder tempo, minha família pode ser devorada a qualquer momento. \n",
    "Sei que os dragões gostam de brincar com suas refeições antes de comer.\n",
    "Outro dia eu conheci um mago e comprei um ítem de emergência. \n",
    "Este pergaminho consegue nos levar para qualquer lugar do mundo, comprei caso o Lorde Gunther\n",
    "ficasse ainda mais louco. Vou usar ele para ir até o covil do dragão.\""
   ]
  },
  {
   "cell_type": "code",
   "execution_count": null,
   "id": "03487efc",
   "metadata": {},
   "outputs": [],
   "source": [
    "players.append(Lorde_Anao)"
   ]
  },
  {
   "cell_type": "code",
   "execution_count": null,
   "id": "fd94387b",
   "metadata": {},
   "outputs": [],
   "source": [
    "# Restauração\n",
    "Toddy.vida = 60\n",
    "Toddy.mana = 60\n",
    "Marlux.vida = 60\n",
    "Marlux.mana = 60\n",
    "Bruce.vida = 60\n",
    "Bruce.mana = 60\n",
    "Dragao_de_Fogo_Jovem.vida = 120\n",
    "Dragao_de_Fogo_Jovem.mana = 120"
   ]
  },
  {
   "cell_type": "code",
   "execution_count": null,
   "id": "b791f75e",
   "metadata": {},
   "outputs": [],
   "source": [
    "# Descanso\n",
    "Marlux.qtd_itens['provisoes'] -= 1\n",
    "Toddy.qtd_itens['provisoes'] -= 1\n",
    "Bruce.qtd_itens['provisoes'] -= 1"
   ]
  },
  {
   "cell_type": "markdown",
   "id": "3f70ec9f",
   "metadata": {},
   "source": [
    "### Olá"
   ]
  },
  {
   "cell_type": "markdown",
   "id": "e8450d59",
   "metadata": {},
   "source": [
    "Ele os chama para um quarto, para que ninguém veja que vocês usaram a magia de teleporte. Ele começa a recitar as palavras.\n",
    "Um círculo aparece no chão, todos que entrarem nele serão teleportados. Quando o guarda para de falar, o círculo brilha bem forte,\n",
    "todos enxergam apenas branco por um momento e depois se enxergam dentro de uma caverna.\n",
    "Perto de onde estão, em uma curva, eles ouvem uma risada e gritos de terror. O guarda não se aguenta, larga os pertences no chão (menos as armas) e corre para ver.\n",
    "Ao virar o corredor, ele se topa com o dragão bem em frente a ele com cara de surpreso.\n",
    "Dragão diz: \n",
    "> \"Olha só, parece que os deuses me enviaram refeições extras!\"\n",
    "\n",
    "A mulher e os filhos do guarda estão no canto atrás do dragão. Estão fisicamente bem, apesar do terror em seus rostos."
   ]
  },
  {
   "cell_type": "code",
   "execution_count": null,
   "id": "f784583d",
   "metadata": {},
   "outputs": [],
   "source": [
    "Toddy.bonus_dado -= 2\n",
    "testes(13,Toddy.inteligencia,Toddy)"
   ]
  },
  {
   "cell_type": "code",
   "execution_count": null,
   "id": "4259fa48",
   "metadata": {},
   "outputs": [],
   "source": [
    "Marlux.mana += 10"
   ]
  },
  {
   "cell_type": "code",
   "execution_count": null,
   "id": "bcfe6761",
   "metadata": {},
   "outputs": [],
   "source": [
    "# Luta contra o Dragão\n",
    "a = [Dragao_de_Fogo_Jovem]\n",
    "combatentes = [] ; porrada = players.copy() ; porrada.extend(a) ; calculo_iniciativa(porrada) ; print(combatentes)"
   ]
  },
  {
   "cell_type": "code",
   "execution_count": null,
   "id": "0a7a77d0",
   "metadata": {
    "scrolled": true
   },
   "outputs": [],
   "source": [
    "combate(combatentes)"
   ]
  },
  {
   "cell_type": "markdown",
   "id": "523283bf",
   "metadata": {},
   "source": [
    "## Andando, cantando e seguindo a canção"
   ]
  },
  {
   "cell_type": "markdown",
   "id": "ec33f022",
   "metadata": {},
   "source": [
    "A tropa agora saiu da caverna. É possível ver a cidade do alto da montanha, e uma densa floresta no caminho. Não há nenhuma outra cidade à vista no entorno e Gladstad é\n",
    "claramente o caminho mais perto para se voltar à civilização. Para descer da montanha, irá levar 1 dia.\n",
    "Ao chegar na floresta, todos reparam que ela é grande e densa, as arvores ficam muito próximas umas das outras e é difícil\n",
    "de ver além de alguns metros adentro."
   ]
  },
  {
   "cell_type": "code",
   "execution_count": null,
   "id": "52f85d77",
   "metadata": {},
   "outputs": [],
   "source": [
    "import random\n",
    "random.randint(1,6)"
   ]
  },
  {
   "cell_type": "markdown",
   "id": "a4d9cea0",
   "metadata": {},
   "source": [
    "### What Happened"
   ]
  },
  {
   "cell_type": "markdown",
   "id": "c74b44b0",
   "metadata": {
    "heading_collapsed": true
   },
   "source": [
    "#### 1"
   ]
  },
  {
   "cell_type": "code",
   "execution_count": null,
   "id": "840fcc10",
   "metadata": {
    "hidden": true
   },
   "outputs": [],
   "source": [
    "'''O grupo avista a frente dois ogros andando entre as arvores. Eles estão brabos e \n",
    "atacam o grupo assim que eles o veem.'''\n",
    "ograo = [Ogro_1,Ogro_2]\n",
    "combatentes = [] ; porrada = players.copy() ; porrada.extend(ograo) ; calculo_iniciativa(porrada) ; print(combatentes)"
   ]
  },
  {
   "cell_type": "code",
   "execution_count": null,
   "id": "bb2988b8",
   "metadata": {
    "hidden": true
   },
   "outputs": [],
   "source": [
    "combate(combatentes)"
   ]
  },
  {
   "cell_type": "markdown",
   "id": "fd45548c",
   "metadata": {
    "heading_collapsed": true
   },
   "source": [
    "#### 2"
   ]
  },
  {
   "cell_type": "code",
   "execution_count": null,
   "id": "4fb354a9",
   "metadata": {
    "hidden": true
   },
   "outputs": [],
   "source": [
    "# Teste de Inteligência. Dif 13\n",
    "testes(13,Toddy.vontade,Toddy)"
   ]
  },
  {
   "cell_type": "markdown",
   "id": "edbd80ae",
   "metadata": {
    "hidden": true
   },
   "source": [
    "##### Surprise"
   ]
  },
  {
   "cell_type": "code",
   "execution_count": null,
   "id": "4089e49c",
   "metadata": {
    "hidden": true
   },
   "outputs": [],
   "source": [
    "# Se ocorreu surprisa...\n",
    "'''6 goblins estão espreitando entre as arvores.'''\n",
    "combatentes = []\n",
    "gobs = [Goblin_Comum_1,Goblin_Comum_2,Goblin_Comum_3,Goblin_Arqueiro_1,Goblin_Arqueiro_2,Goblin_Arqueiro_3]\n",
    "calculo_iniciativa(gobs) ; gobs = combatentes.copy()\n",
    "combatentes = [] ; calculo_iniciativa(players)\n",
    "combatentes = gobs.copy() + combatentes.copy()\n",
    "print(combatentes)"
   ]
  },
  {
   "cell_type": "code",
   "execution_count": null,
   "id": "5d5447ae",
   "metadata": {
    "hidden": true
   },
   "outputs": [],
   "source": [
    "# Caso não tenha surpresa...\n",
    "'''6 goblins estão espreitando entre as arvores.'''\n",
    "gobs = [Goblin_Comum_1,Goblin_Comum_2,Goblin_Comum_3,Goblin_Arqueiro_1,Goblin_Arqueiro_2,Goblin_Arqueiro_3]\n",
    "combatentes = [] ; porrada = players.copy() ; porrada.extend(gobs) ; calculo_iniciativa(porrada) ; print(combatentes)"
   ]
  },
  {
   "cell_type": "code",
   "execution_count": null,
   "id": "707d3c97",
   "metadata": {
    "hidden": true
   },
   "outputs": [],
   "source": [
    "combate(combatentes)"
   ]
  },
  {
   "cell_type": "code",
   "execution_count": null,
   "id": "a8fcbe9b",
   "metadata": {
    "hidden": true
   },
   "outputs": [],
   "source": [
    "Toddy.qtd_itens['flecha_comum'] += 10"
   ]
  },
  {
   "cell_type": "markdown",
   "id": "679d0072",
   "metadata": {
    "heading_collapsed": true
   },
   "source": [
    "#### 3"
   ]
  },
  {
   "cell_type": "code",
   "execution_count": null,
   "id": "2e71139a",
   "metadata": {
    "hidden": true
   },
   "outputs": [],
   "source": [
    "'''Os personagens estão andando. Um deles tropeça, quebra uns galhos e \n",
    "vê 8 goblins acampados alguns metros à frente que levantam e pegam nas armas.'''\n",
    "gobs = [Goblin_Xama_1,Goblin_Comum_4,Goblin_Comum_5,Goblin_Comum_6,Goblin_Mercador_1,Goblin_Mercador_2,Goblin_Arqueiro_4,Goblin_Arqueiro_5]\n",
    "combatentes = [] ; porrada = players.copy() ; porrada.extend(gobs) ; calculo_iniciativa(porrada) ; print(combatentes)"
   ]
  },
  {
   "cell_type": "code",
   "execution_count": null,
   "id": "a8b0acb7",
   "metadata": {
    "hidden": true
   },
   "outputs": [],
   "source": [
    "combate(combatentes)"
   ]
  },
  {
   "cell_type": "code",
   "execution_count": null,
   "id": "ffa3c950",
   "metadata": {
    "hidden": true
   },
   "outputs": [],
   "source": [
    "Marlux.gold += 50\n",
    "Toddy.gold += 50\n",
    "Bruce.gold += 50"
   ]
  },
  {
   "cell_type": "markdown",
   "id": "af77eae2",
   "metadata": {
    "heading_collapsed": true
   },
   "source": [
    "#### 4"
   ]
  },
  {
   "cell_type": "code",
   "execution_count": null,
   "id": "225979cd",
   "metadata": {
    "hidden": true
   },
   "outputs": [],
   "source": [
    "testes(13,Lobo_Bestial_1.vontade,Lobo_Bestial_1)"
   ]
  },
  {
   "cell_type": "code",
   "execution_count": null,
   "id": "d2c8447c",
   "metadata": {
    "hidden": true
   },
   "outputs": [],
   "source": [
    "'''Está uma momento calmo, até os heróis ouvem um uivo de lobo\n",
    "e 3 deles aparecem correndo na direção dos heróis com os dentes à mostra e saliva na boca.'''\n",
    "a = [Lobo_Bestial_1,Lobo_Bestial_2,Lobo_Bestial_3]\n",
    "combatentes = [] ; porrada = players.copy() ; porrada.extend(a) ; calculo_iniciativa(porrada) ; print(combatentes)"
   ]
  },
  {
   "cell_type": "code",
   "execution_count": null,
   "id": "97353557",
   "metadata": {
    "hidden": true
   },
   "outputs": [],
   "source": [
    "combate(combatentes)"
   ]
  },
  {
   "cell_type": "code",
   "execution_count": null,
   "id": "0bd5a731",
   "metadata": {
    "hidden": true
   },
   "outputs": [],
   "source": [
    "testes(10,Toddy.inteligencia,Toddy)"
   ]
  },
  {
   "cell_type": "code",
   "execution_count": null,
   "id": "faaba5fc",
   "metadata": {
    "hidden": true
   },
   "outputs": [],
   "source": [
    "# Restauração\n",
    "Toddy.vida += 15\n",
    "Toddy.mana = 60\n",
    "Marlux.vida += 15\n",
    "Marlux.mana = 60\n",
    "Bruce.vida = 60\n",
    "Bruce.mana = 60\n",
    "Lorde_Anao.vida += 0\n",
    "Lorde_Anao.mana += 20"
   ]
  },
  {
   "cell_type": "markdown",
   "id": "90a990b4",
   "metadata": {
    "heading_collapsed": true
   },
   "source": [
    "#### 5"
   ]
  },
  {
   "cell_type": "code",
   "execution_count": null,
   "id": "ba6b439f",
   "metadata": {
    "hidden": true
   },
   "outputs": [],
   "source": [
    "'''O grupo está caminhando, aí veem na frente uma gazela correndo. \n",
    "Um troll está perseguindo ela, mas ele nota a presença do grupo,\n",
    "olha para eles e dá um rugido. Ele está pronto para atacar.'''\n",
    "trolagem = [Troll]\n",
    "combatentes = [] ; porrada = players.copy() ; porrada.extend(trolagem) ; calculo_iniciativa(porrada) ; print(combatentes)"
   ]
  },
  {
   "cell_type": "code",
   "execution_count": null,
   "id": "efe540f3",
   "metadata": {
    "hidden": true
   },
   "outputs": [],
   "source": [
    "combate(combatentes)"
   ]
  },
  {
   "cell_type": "markdown",
   "id": "f178c5e6",
   "metadata": {},
   "source": [
    "#### 6"
   ]
  },
  {
   "cell_type": "code",
   "execution_count": null,
   "id": "b10a39fe",
   "metadata": {},
   "outputs": [],
   "source": [
    "'''O grupo encontra o sarcófado'''"
   ]
  },
  {
   "cell_type": "markdown",
   "id": "b3c5d838",
   "metadata": {},
   "source": [
    "## SAC (Serviço de Atendimento ao Cliente)"
   ]
  },
  {
   "cell_type": "markdown",
   "id": "c46f8a8a",
   "metadata": {},
   "source": [
    "No meio de muitas plantas, vimes e raízes de arvores, o grupo encontra o sarcófago.\n",
    "É um imenso bloco de pedra com algumas marcas e escritas. \n",
    "Após tirar algumas plantas que enraizaram entre as pedras, os heróis encontrarão um escrito dizendo:\n",
    "\n",
    ">*“Não há tesouros ou fortunas aqui. Uma terrível **maldição** foi presa. Abra este sarcófago e você **condenará a sua alma e de todos**.”.*\n",
    "\n",
    "\n",
    "Examinando melhor, os heróis descobrirão que um pedaço está quebrado e que\n",
    "há um buraco de 50cm em um dos cantos. Lá dentro está muito escuro, tanto que a luz não chega."
   ]
  },
  {
   "cell_type": "markdown",
   "id": "81552b7e",
   "metadata": {},
   "source": [
    "### Rebouças"
   ]
  },
  {
   "cell_type": "markdown",
   "id": "03685c63",
   "metadata": {},
   "source": [
    "O buraco no fundo do sarcófago desce uns 8 metros e possui quase 2 metros de largura.\n",
    "Nas paredes de pedra há mais escritos dizendo:\n",
    ">“Saiam daqui antes que seja tarde” \\“Não há tesouros aqui, apenas a morte!”\n",
    "\n",
    "Pode se observar que não se teve muito cuidado na construção das paredes.\n",
    "Lá em baixo está úmido e um túnel lateral segue em direção norte. No chão há pedaços de pedras e galhos vindo lá de cima.\n",
    "Apesar disto, parece que alguém passou por aqui (ou algo).\n",
    "O túnel é escuro (precisa ser iluminado com tochas) e se estende por 20 metros até chegar a um grande aposento."
   ]
  },
  {
   "cell_type": "code",
   "execution_count": null,
   "id": "a0043dbd",
   "metadata": {},
   "outputs": [],
   "source": [
    "Marlux.mana"
   ]
  },
  {
   "cell_type": "code",
   "execution_count": null,
   "id": "130c41be",
   "metadata": {},
   "outputs": [],
   "source": [
    "Marlux.forca"
   ]
  },
  {
   "cell_type": "markdown",
   "id": "c6f4ebb0",
   "metadata": {},
   "source": [
    "### G APT"
   ]
  },
  {
   "cell_type": "code",
   "execution_count": null,
   "id": "00a31cc0",
   "metadata": {},
   "outputs": [],
   "source": [
    "'''Goblins atacam o grupo.'''\n",
    "#gobs = [Goblin_Xama_2,Goblin_Comum_7,Goblin_Comum_8,Goblin_Comum_9,Goblin_Comum_10,Goblin_Soldado_1,Goblin_Soldado_2,Goblin_Soldado_3,Goblin_Arqueiro_6,Goblin_Arqueiro_7]\n",
    "gobs = [Goblin_Soldado_1,Goblin_Soldado_2,Goblin_Soldado_3]\n",
    "combatentes = [] ; porrada = players.copy() ; porrada.extend(gobs) ; calculo_iniciativa(porrada) ; print(combatentes)"
   ]
  },
  {
   "cell_type": "code",
   "execution_count": null,
   "id": "532b0552",
   "metadata": {},
   "outputs": [],
   "source": [
    "combate(combatentes)"
   ]
  },
  {
   "cell_type": "markdown",
   "id": "a0441805",
   "metadata": {},
   "source": [
    "O aposento é grande e não possui nenhuma mobília. \n",
    "Num canto está um entulhado de carne de animais mortos que os goblins pegam para comer, e em outro canto está uma pilha de pedaços de metal. \n",
    "Investigando melhor, os heróis encontrarão algumas moedas (20 moedas) e uma chave velha.\n",
    "Há duas portas na sala, uma em cada lado, e na parede da frente há uma grande mensagem entalhada nas pedras:\n",
    "> “Não liberte a maldição! Saia daqui!”."
   ]
  },
  {
   "cell_type": "code",
   "execution_count": null,
   "id": "f9d9e7a8",
   "metadata": {},
   "outputs": [],
   "source": []
  },
  {
   "cell_type": "markdown",
   "id": "25ad09b9",
   "metadata": {},
   "source": [
    "### OPT"
   ]
  },
  {
   "cell_type": "markdown",
   "id": "7cad7377",
   "metadata": {},
   "source": [
    "#### 3"
   ]
  },
  {
   "cell_type": "markdown",
   "id": "54c59ea7",
   "metadata": {},
   "source": [
    "Atrás da porta segue um extenso corredor que leva até uma grande sala. \n",
    "A sala parece ser um tipo de depósito de madeira. \n",
    "Há muitos galhos e troncos podres em toda a sala, e nenhuma razão para isto.\n",
    "Ao se aproximar, de baixo dos troncos se erguem dois vermes nojentos gigantes que atacam.\n",
    "Um deles começa a cavar."
   ]
  },
  {
   "cell_type": "code",
   "execution_count": null,
   "id": "f535f175",
   "metadata": {},
   "outputs": [],
   "source": [
    "'''Vermes'''\n",
    "nojento = [Verme_Gigante_1]\n",
    "combatentes = [] ; porrada = players.copy() ; porrada.extend(nojento) ; calculo_iniciativa(porrada) ; print(combatentes)"
   ]
  },
  {
   "cell_type": "code",
   "execution_count": null,
   "id": "05448e6e",
   "metadata": {},
   "outputs": [],
   "source": [
    "combate(combatentes)"
   ]
  },
  {
   "cell_type": "markdown",
   "id": "664ac1d9",
   "metadata": {},
   "source": [
    "A sala está totalmente suja e só depois de muito tempo investigando o lugar (tirando\n",
    "galhos e troncos podres da frente) o grupo encontrará um alçapão no chão.\n",
    "Este alçapão é de ferro e está muito bem selado. \n",
    "Há uma fechadura bem resistente e difícil."
   ]
  },
  {
   "cell_type": "markdown",
   "id": "4c0bfb4f",
   "metadata": {
    "heading_collapsed": true
   },
   "source": [
    "#### 2"
   ]
  },
  {
   "cell_type": "code",
   "execution_count": null,
   "id": "8c8a00c2",
   "metadata": {
    "hidden": true
   },
   "outputs": [],
   "source": [
    "'''Um extenso corredor leva até uma grande sala. \n",
    "Cinco goblins estão almoçando carne de coelho. Eles não notam a presença dos heróis.'''\n",
    "gobs = [Lider_Goblin,Goblin_Xama_3,Goblin_Xama_4,Goblin_Soldado_4,Goblin_Soldado_5,Goblin_Soldado_6]\n",
    "combatentes = [] ; porrada = players.copy() ; porrada.extend(gobs) ; calculo_iniciativa(porrada) ; print(combatentes)"
   ]
  },
  {
   "cell_type": "code",
   "execution_count": null,
   "id": "6cc76f35",
   "metadata": {
    "hidden": true
   },
   "outputs": [],
   "source": [
    "combate(combatentes)"
   ]
  },
  {
   "cell_type": "markdown",
   "id": "cb7d8160",
   "metadata": {
    "heading_collapsed": true
   },
   "source": [
    "### SENORM"
   ]
  },
  {
   "cell_type": "markdown",
   "id": "68a3e150",
   "metadata": {
    "hidden": true
   },
   "source": [
    "Abrindo o alçapão, os heróis encontrarão uma escadaria que leva até uma sala mais profunda.\n",
    "Esta é uma enorme sala coberta por estatuas nas paredes. São estatuas de demônios e\n",
    "criaturas asquerosas. Um vento frio uiva dos orifícios das estátuas, parecendo que elas estão\n",
    "vivas.\n",
    "No final do corredor há uma grande porta dupla de madeira com um escrito:\n",
    "> “Saia agora!”."
   ]
  },
  {
   "cell_type": "markdown",
   "id": "44e55801",
   "metadata": {
    "heading_collapsed": true
   },
   "source": [
    "### Que brilhoso!"
   ]
  },
  {
   "cell_type": "markdown",
   "id": "57cb44ae",
   "metadata": {
    "hidden": true
   },
   "source": [
    "No centro desta sala está um grande baú dourado incrustado de jóias.\n",
    "É brilhante e ilumina toda a sala.\n",
    "Ao lado do baú está de pé uma figura vestindo uma armadura completa.\n",
    "Não é possível ver qualquer parte de seu corpo, e quando a porta se abre, uma luz sai de dentro\n",
    "do elmo e uma voz aterrorizante fala:\n",
    "> “Eu sou o guardião do cálice e não posso deixar que libertem a maldição!”. \n",
    "\n",
    "Só fala isso e fica parado."
   ]
  },
  {
   "cell_type": "code",
   "execution_count": null,
   "id": "21e57af3",
   "metadata": {
    "hidden": true
   },
   "outputs": [],
   "source": [
    "'''Ele não vai deixar ninguém pegar o cálice de jeito nenhum e decide atacar!'''\n",
    "guard = [Guardiao_do_Calice]\n",
    "combatentes = [] ; porrada = players.copy() ; porrada.extend(guard) ; calculo_iniciativa(porrada) ; print(combatentes)"
   ]
  },
  {
   "cell_type": "code",
   "execution_count": null,
   "id": "609dcd01",
   "metadata": {
    "hidden": true
   },
   "outputs": [],
   "source": [
    "combate(combatentes)"
   ]
  },
  {
   "cell_type": "markdown",
   "id": "daa2e731",
   "metadata": {
    "heading_collapsed": true
   },
   "source": [
    "## Final"
   ]
  },
  {
   "cell_type": "markdown",
   "id": "5e9c32a5",
   "metadata": {
    "hidden": true
   },
   "source": [
    "Os heróis necessariamente vão voltar para o dragão do jeito que estão.\n",
    "Não demora para chegar, eles conhecem o caminho de volta. Consome 1 provisão.\n",
    "Ao ver o dragão, ocorre uma das duas situações a seguir."
   ]
  },
  {
   "cell_type": "markdown",
   "id": "6cab54a3",
   "metadata": {
    "heading_collapsed": true,
    "hidden": true
   },
   "source": [
    "### De boa"
   ]
  },
  {
   "cell_type": "markdown",
   "id": "aa2da208",
   "metadata": {
    "hidden": true
   },
   "source": [
    "Os heróis tem que atravessar de novo a floresta para chegar ao dragão.\n",
    "Ao chegar lá, o dragão estará esperando do lado de fora.\n",
    "Ele fica muito agitado e diz:\n",
    "> ME DÊ O CÁLICE AGORA!\n",
    "\n",
    "Assim que o cálice fica à mostra, ele parte pra cima do jogador que tem o cálice e o pega.\n",
    "Daí ele voa para longe imediatamente."
   ]
  },
  {
   "cell_type": "markdown",
   "id": "cac20661",
   "metadata": {
    "heading_collapsed": true,
    "hidden": true
   },
   "source": [
    "### Não de boa"
   ]
  },
  {
   "cell_type": "markdown",
   "id": "37a56d51",
   "metadata": {
    "hidden": true
   },
   "source": [
    "Os heróis voltam à caverna do dragão com o guardião do lado deles.\n",
    "Os heróis tem que atravessar de novo a floresta para chegar ao drgão, mas eles tem o Guardião ao lado!"
   ]
  },
  {
   "cell_type": "markdown",
   "id": "1f31d01a",
   "metadata": {
    "heading_collapsed": true,
    "hidden": true
   },
   "source": [
    "#### Pra valer"
   ]
  },
  {
   "cell_type": "markdown",
   "id": "34b7e8a9",
   "metadata": {
    "hidden": true
   },
   "source": [
    "O dragão está no mesma curva da caverna de antes.\n",
    "Não dá para se aproximar dele, sem que ele o perceba, tem que ser uma luta direta.\n",
    "> Vocês querem muito ser devorados, né?\n",
    "\n",
    "Quando ele nota o guardião junto dos heróis, sua expressão muda e ele começa a mostrar sinais de medo."
   ]
  },
  {
   "cell_type": "code",
   "execution_count": null,
   "id": "b16828e7",
   "metadata": {
    "hidden": true
   },
   "outputs": [],
   "source": [
    "# Luta contra o Dragão\n",
    "final = [Dragao_de_Fogo_Jovem,Guardiao_do_Calice]\n",
    "combatentes = [] ; porrada = players.copy() ; porrada.extend(final) ; calculo_iniciativa(porrada) ; print(combatentes)"
   ]
  },
  {
   "cell_type": "code",
   "execution_count": null,
   "id": "0ee7359b",
   "metadata": {
    "hidden": true
   },
   "outputs": [],
   "source": [
    "combate(combatentes)"
   ]
  },
  {
   "cell_type": "markdown",
   "id": "8bb541cb",
   "metadata": {
    "heading_collapsed": true,
    "hidden": true
   },
   "source": [
    "### Felizes para sempre?"
   ]
  },
  {
   "cell_type": "markdown",
   "id": "6d5398c8",
   "metadata": {
    "hidden": true
   },
   "source": [
    "Todos tem uma viagem tranquila de volta para a cidade e cada um ganha 800 de Gold ao encontrar o lord. O Dragão não aparece mais na cidade.\n",
    "Se entregaram o cálice para o Dragão, todos da cidade viram o Dragão voando para longe.\n",
    "Se mataram o Dragão, o grupo levou uma prova do seu feito."
   ]
  }
 ],
 "metadata": {
  "kernelspec": {
   "display_name": "Python 3 (ipykernel)",
   "language": "python",
   "name": "python3"
  },
  "language_info": {
   "codemirror_mode": {
    "name": "ipython",
    "version": 3
   },
   "file_extension": ".py",
   "mimetype": "text/x-python",
   "name": "python",
   "nbconvert_exporter": "python",
   "pygments_lexer": "ipython3",
   "version": "3.10.11"
  },
  "varInspector": {
   "cols": {
    "lenName": 16,
    "lenType": 16,
    "lenVar": 40
   },
   "kernels_config": {
    "python": {
     "delete_cmd_postfix": "",
     "delete_cmd_prefix": "del ",
     "library": "var_list.py",
     "varRefreshCmd": "print(var_dic_list())"
    },
    "r": {
     "delete_cmd_postfix": ") ",
     "delete_cmd_prefix": "rm(",
     "library": "var_list.r",
     "varRefreshCmd": "cat(var_dic_list()) "
    }
   },
   "types_to_exclude": [
    "module",
    "function",
    "builtin_function_or_method",
    "instance",
    "_Feature"
   ],
   "window_display": false
  }
 },
 "nbformat": 4,
 "nbformat_minor": 5
}
