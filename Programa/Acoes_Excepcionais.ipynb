{
 "cells": [
  {
   "cell_type": "markdown",
   "id": "a87ef41f",
   "metadata": {
    "heading_collapsed": true
   },
   "source": [
    "# Ações Excepcionais"
   ]
  },
  {
   "cell_type": "markdown",
   "id": "305b1f81",
   "metadata": {},
   "source": [
    "# Magias"
   ]
  },
  {
   "cell_type": "code",
   "execution_count": null,
   "id": "4dda939f",
   "metadata": {},
   "outputs": [],
   "source": [
    "def magia(usador,focus_points,dif):\n",
    "    Di = usador.bonus_dado ; acct = 0 ; ecct = 0\n",
    "    print('Bonus de rolagem =',usador.bonus_dado)\n",
    "    Di += usador.inteligencia\n",
    "    print('Atributo é','inteligência =',usador.inteligencia,',',Di)\n",
    "    for d in range(usador.qtd_dados):\n",
    "        di = dado() ; Di += di; print('Resultado do dado',d + 1,'=',di,',',Di)\n",
    "        if di == 6: acct += 1\n",
    "        elif di == 1: ecct += 1\n",
    "        if acct == 2 or ecct == 2: break\n",
    "    print('Resultado Geral =',Di)\n",
    "    if hasattr(usador,'maos'):\n",
    "        if 'asseste_magico' in usador.maos[0].obs: dif -= 1\n",
    "        if 'asseste_magico' in usador.maos[1].obs: dif -= 1\n",
    "        if 'foco_magico' in usador.maos[0].obs: focus_points -= 5\n",
    "        if 'foco_magico' in usador.maos[1].obs: focus_points -= 5\n",
    "    if acct == 2: print('Sucesso crítico!') ; return \"sucesso critico\"\n",
    "    elif ecct == 2: usador.mana -= focus_points ; print('Erro crítico!')\n",
    "    elif Di >= dif: usador.mana -= focus_points ; print('Sucesso!') ; return True\n",
    "    else: return print('Não conseguiu executar a magia!')"
   ]
  }
 ],
 "metadata": {
  "kernelspec": {
   "display_name": "Python 3 (ipykernel)",
   "language": "python",
   "name": "python3"
  },
  "language_info": {
   "codemirror_mode": {
    "name": "ipython",
    "version": 3
   },
   "file_extension": ".py",
   "mimetype": "text/x-python",
   "name": "python",
   "nbconvert_exporter": "python",
   "pygments_lexer": "ipython3",
   "version": "3.10.11"
  },
  "varInspector": {
   "cols": {
    "lenName": 16,
    "lenType": 16,
    "lenVar": 40
   },
   "kernels_config": {
    "python": {
     "delete_cmd_postfix": "",
     "delete_cmd_prefix": "del ",
     "library": "var_list.py",
     "varRefreshCmd": "print(var_dic_list())"
    },
    "r": {
     "delete_cmd_postfix": ") ",
     "delete_cmd_prefix": "rm(",
     "library": "var_list.r",
     "varRefreshCmd": "cat(var_dic_list()) "
    }
   },
   "types_to_exclude": [
    "module",
    "function",
    "builtin_function_or_method",
    "instance",
    "_Feature"
   ],
   "window_display": false
  }
 },
 "nbformat": 4,
 "nbformat_minor": 5
}
