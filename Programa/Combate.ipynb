{
 "cells": [
  {
   "cell_type": "markdown",
   "id": "576975fa",
   "metadata": {},
   "source": [
    "# Combate"
   ]
  },
  {
   "cell_type": "markdown",
   "id": "e2520e79",
   "metadata": {},
   "source": [
    "## Cálculo da Iniciativa"
   ]
  },
  {
   "cell_type": "code",
   "execution_count": null,
   "id": "0a2e982a",
   "metadata": {},
   "outputs": [],
   "source": [
    "def calculo_iniciativa(principiantes):\n",
    "    iniciativa = {}\n",
    "    for pri in principiantes:\n",
    "        if pri.vida > 0:\n",
    "            if pri.agilidade > pri.inteligencia: iniciativa.update({pri.nome:dado() + pri.agilidade})\n",
    "            else: iniciativa.update({pri.nome:dado() + pri.inteligencia})\n",
    "    aux_list = list(iniciativa.keys()) ; random.shuffle(aux_list) ; aux_dict = dict()\n",
    "    for adt in aux_list: aux_dict.update({adt: iniciativa[adt]})\n",
    "    while aux_dict: combatentes.append(max(aux_dict, key = aux_dict.get)) ; aux_dict.pop(max(aux_dict, key = aux_dict.get))\n",
    "    for n in range(len(combatentes)): combatentes[n] = globals()[combatentes[n]]"
   ]
  },
  {
   "cell_type": "markdown",
   "id": "068751a9",
   "metadata": {},
   "source": [
    "## Função que roda o combate"
   ]
  },
  {
   "cell_type": "code",
   "execution_count": null,
   "id": "a91bde85",
   "metadata": {},
   "outputs": [],
   "source": [
    "def combate(luchadores,vez = 0):\n",
    "    for count in range(len(luchadores)):\n",
    "        dados_combate = ' VIDA = ' + str(luchadores[count].vida) + ' MANA = ' + str(luchadores[count].mana) +\\\n",
    "                    ' defesa = ' + str(luchadores[count].defesa) + ' determinacao = ' + str(luchadores[count].determinacao)\n",
    "        print((luchadores[count].nome + ' ').ljust(70,'-') + (' ' + dados_combate).rjust(50,'-'))\n",
    "    try:\n",
    "        while True:\n",
    "            if vez > len(luchadores) - 1: vez = 0\n",
    "            if luchadores[vez].vida > 0:\n",
    "                print('\\n') ; print(luchadores) ; print('\\nÉ a vez do',luchadores[vez])\n",
    "                if 'paralisado' in luchadores[vez].condicao: print(luchadores[vez].nome + ' está paralisado!')\n",
    "                print('Condicao   = ', luchadores[vez].condicao)\n",
    "                if luchadores[vez].nome == 'Troll': print('\\nO Troll se regenerou!')\n",
    "                print('\\n1 - ataque normal\\n2 - Outro') ; acao = input ('Qual a sua acao? ')\n",
    "                while acao != '1' and acao != '2' and acao != 'sair': acao = input ('Decide direito o que fazer!')\n",
    "                # Resultado da ação escolhida\n",
    "                if acao == '1':\n",
    "                    alvo = input('Escolha um alvo: ')\n",
    "                    while alvo != 'sair':\n",
    "                        if alvo in globals():\n",
    "                            if globals()[alvo] in luchadores:\n",
    "                                if 'cavando' in globals()[alvo].condicao: print(alvo + ' está debaixo da terra!')\n",
    "                                elif globals()[alvo].vida > 0:\n",
    "                                    break\n",
    "                        alvo = input('Escolha um alvo que esteja no combate: ')\n",
    "                    if alvo != 'sair':\n",
    "                        attack = luchadores[vez].ataque(globals()[alvo])\n",
    "                        continua = input('Aconteceu algo? (Em branco passa para a próxima vez. \"sim\" roda o programa Auxiliar) ')\n",
    "                        while continua != \"sim\" and continua != \"\": continua = input('Digite \"sim\" ou deixe em branco. ')\n",
    "                        if continua == \"sim\":\n",
    "                            try:\n",
    "                                %run Auxiliar.ipynb\n",
    "                            except Exception as e: print(e)\n",
    "                            desejo = ' '\n",
    "                            while desejo != 'sim':\n",
    "                                desejo = input('Deu o efeito desejado?\\n(sim para prosseguir/nao para rodar de novo o codigo) ')\n",
    "                                if desejo == 'nao':\n",
    "                                    try:\n",
    "                                        %run Auxiliar.ipynb\n",
    "                                    except Exception as e: print(e)\n",
    "                                elif desejo != 'sim' and desejo != 'nao': desejo = input('Digite \"sim\" ou \"nao\"! ')    \n",
    "                if acao == '2':\n",
    "                    continua = input('Está pronta a sua ação? (sim) ')\n",
    "                    while continua != 'sim' and continua != 'sair': continua = input('Digite \"sim\" para executar a sua ação: ')\n",
    "                    if continua != 'sair':\n",
    "                        try:\n",
    "                            %run Auxiliar.ipynb\n",
    "                        except Exception as e: print(e)\n",
    "                        desejo = ' '\n",
    "                        while desejo != 'sim':\n",
    "                            desejo = input('Deu o efeito desejado?\\n(sim para prosseguir/nao para rodar de novo o codigo) ')\n",
    "                            if desejo == 'nao':\n",
    "                                try:\n",
    "                                    %run Auxiliar.ipynb\n",
    "                                except Exception as e: print(e)\n",
    "                            elif desejo != 'sim' and desejo != 'nao': desejo = input('Digite \"sim\" ou \"nao\"! ')\n",
    "            if luchadores[vez].vida > 0:\n",
    "                print('\\n') ; count = 0\n",
    "                for count in range(len(luchadores)):\n",
    "                    dados_combate = ' VIDA = ' + str(luchadores[count].vida) + ' MANA = ' + str(luchadores[count].mana) +\\\n",
    "                        ' defesa = ' + str(luchadores[count].defesa) + ' determinacao = ' + str(luchadores[count].determinacao)\n",
    "                    if luchadores[count].vida <= 0: print((luchadores[count].nome + ' MORREU! ').ljust(70,'-') + (' ' + dados_combate).rjust(50,'-'))\n",
    "                    else: print((luchadores[count].nome + ' ').ljust(70,'-') + (' ' + dados_combate).rjust(50,'-'))\n",
    "            vez += 1\n",
    "    except KeyboardInterrupt: print('\\n') ; print('Acabou o combate!')"
   ]
  }
 ],
 "metadata": {
  "kernelspec": {
   "display_name": "Python 3 (ipykernel)",
   "language": "python",
   "name": "python3"
  },
  "language_info": {
   "codemirror_mode": {
    "name": "ipython",
    "version": 3
   },
   "file_extension": ".py",
   "mimetype": "text/x-python",
   "name": "python",
   "nbconvert_exporter": "python",
   "pygments_lexer": "ipython3",
   "version": "3.10.11"
  },
  "varInspector": {
   "cols": {
    "lenName": 16,
    "lenType": 16,
    "lenVar": 40
   },
   "kernels_config": {
    "python": {
     "delete_cmd_postfix": "",
     "delete_cmd_prefix": "del ",
     "library": "var_list.py",
     "varRefreshCmd": "print(var_dic_list())"
    },
    "r": {
     "delete_cmd_postfix": ") ",
     "delete_cmd_prefix": "rm(",
     "library": "var_list.r",
     "varRefreshCmd": "cat(var_dic_list()) "
    }
   },
   "types_to_exclude": [
    "module",
    "function",
    "builtin_function_or_method",
    "instance",
    "_Feature"
   ],
   "window_display": false
  }
 },
 "nbformat": 4,
 "nbformat_minor": 5
}
