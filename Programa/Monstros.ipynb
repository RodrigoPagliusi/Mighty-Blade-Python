{
 "cells": [
  {
   "cell_type": "markdown",
   "id": "aafeb7f3",
   "metadata": {},
   "source": [
    "# Monstros"
   ]
  },
  {
   "cell_type": "markdown",
   "id": "5a67a4f2",
   "metadata": {},
   "source": [
    "## Função para criar monstros"
   ]
  },
  {
   "cell_type": "code",
   "execution_count": null,
   "id": "0fc54a7b",
   "metadata": {},
   "outputs": [],
   "source": [
    "#Criar Monstros\n",
    "lista_monstros = []\n",
    "lista_monstros = [cell.value for col in dados['Monstros'].iter_cols(min_col = 1, min_row = 2, max_row = 15, max_col = 1) for cell in col]\n",
    "\n",
    "def criar_monstro(monst,quantos_bichos = 1):\n",
    "    if monst not in lista_monstros: print('Digite o nome de um monstro existente!') ; return\n",
    "    if type(quantos_bichos) != int: print('Digite um número inteiro!') ; return\n",
    "    for row in dados['Monstros'].iter_rows(min_col = 1,min_row = 2,max_col = 1,max_row = 15):\n",
    "        for cell in row:\n",
    "            if cell.value == monst:\n",
    "                for m in range(quantos_bichos):\n",
    "                    if cell.value + '_' + str(m + 1) not in globals():\n",
    "                        if quantos_bichos == 1:\n",
    "                            globals()[cell.value] = Monstro(cell.value,cell)\n",
    "                            monstros_mundo.append(globals()[cell.value])\n",
    "                        else:\n",
    "                            globals()[cell.value + '_' + str(m + 1)] = Monstro(cell.value + '_' + str(m + 1),cell)\n",
    "                            monstros_mundo.append(globals()[cell.value + '_' + str(m + 1)])\n",
    "                    else: print(cell.value + '_' + str(m + 1) + ' já existe.')"
   ]
  },
  {
   "cell_type": "markdown",
   "id": "114ebdd2",
   "metadata": {},
   "source": [
    "## Classe Monstro"
   ]
  },
  {
   "cell_type": "code",
   "execution_count": null,
   "id": "0ef06456",
   "metadata": {},
   "outputs": [],
   "source": [
    "#Criar os monstros do mundo.\n",
    "#Lista de Monstros\n",
    "class Monstro():\n",
    "    def __init__(self,nome_monstro,celula):\n",
    "        self.nome = nome_monstro\n",
    "        self.forca = celula.offset(row = 0,column = 1).value\n",
    "        self.agilidade = celula.offset(row = 0,column = 2).value\n",
    "        self.inteligencia = celula.offset(row = 0,column = 3).value\n",
    "        self.vontade = celula.offset(row = 0,column = 4).value\n",
    "        self.determinacao = celula.offset(row = 0,column = 5).value\n",
    "        self.vida = celula.offset(row = 0,column = 6).value\n",
    "        self.mana = celula.offset(row = 0,column = 7).value\n",
    "        self.defesa = celula.offset(row = 0,column = 8).value\n",
    "        self.ataques = celula.offset(row = 0,column = 9).value.split('-')\n",
    "        self.distancia = celula.offset(row = 0,column = 10).value.split('-')\n",
    "        if type(celula.offset(row = 0,column = 11).value) == int: \n",
    "            self.dano = [celula.offset(row = 0,column = 11).value]\n",
    "        else:\n",
    "            self.dano = celula.offset(row = 0,column = 11).value.split('-')\n",
    "        for d in range(len(self.dano)): self.dano[d]=int(self.dano[d])\n",
    "        self.tipo = celula.offset(row = 0,column = 12).value.split('-')\n",
    "        self.habilidades = celula.offset(row = 0,column = 13).value.split('-')\n",
    "        if celula.offset(row = 0,column = 14).value != None: self.resistencias = celula.offset(row = 0,column = 14).value.split('-')\n",
    "        else: self.resistencias = []\n",
    "        if celula.offset(row = 0,column = 15).value != None: self.vulnerabilidades = celula.offset(row = 0,column = 15).value.split('-')\n",
    "        else: self.vulnerabilidades = []\n",
    "        if celula.offset(row = 0,column = 16).value != None: self.imunidades = celula.offset(row = 0,column = 16).value.split('-')\n",
    "        else: self.imunidades = []\n",
    "        if celula.offset(row = 0,column = 17).value != None: self.absorcao = celula.offset(row = 0,column = 17).value.split('-')\n",
    "        else: self.absorcao = []\n",
    "        self.condicao = []\n",
    "        if celula.offset(row = 0,column = 18).value == None: self.tesouros = []\n",
    "        else: self.tesouros = celula.offset(row = 0,column = 18).value.split('-')\n",
    "        self.qtd_dados , self.bonus_dado , self.bonus_dano, self.reduc_dano = 2 , 0 , 0 , 0\n",
    "\n",
    "    def __repr__(self): return self.nome\n",
    "    \n",
    "    def ataque(self,alvo):\n",
    "        attacks = []\n",
    "        for i in self.ataques: attacks.append(str(self.ataques.index(i))) ; print(self.ataques.index(i),i)\n",
    "        escolha_ataque = input('Qual ataque o monstro vai realizar? ')\n",
    "        while escolha_ataque not in attacks:\n",
    "            if escolha_ataque == 'sair': return\n",
    "            escolha_ataque = input('Escolha um ataque que o monstro consiga fazer! ')\n",
    "\n",
    "        atributo = 'força' ; atributo_ataque = self.forca\n",
    "\n",
    "        if self.distancia[int(escolha_ataque)] == 'distancia': atributo = 'agilidade' ; atributo_ataque = self.agilidade\n",
    "\n",
    "        Di = atributo_ataque ; acct = 0 ; ecct = 0\n",
    "        print('Atributo é',atributo,'=',atributo_ataque,',',Di)\n",
    "        Di += self.bonus_dado\n",
    "        print('Bonus de rolagem =',self.bonus_dado,',',Di)\n",
    "        for d in range(self.qtd_dados):\n",
    "            di = dado() ; Di += di ; print('Resultado do dado',d+1,'=',di,',',Di)\n",
    "            if di == 6: acct += 1\n",
    "            elif di == 1: ecct += 1\n",
    "            if acct == 2 or ecct == 2: break\n",
    "        print('Resultado Geral =',Di,' <> ','Defesa do alvo = ',alvo.defesa)\n",
    "\n",
    "        if Di >= alvo.defesa: print('Acertou!') ; damage = self.dano[int(escolha_ataque)] + self.bonus_dano ;\\\n",
    "                                                receber_dano(alvo,damage,self.tipo,self)\n",
    "        elif acct == 2: print('Acerto crítico!') ; damage = 2*(self.dano[int(escolha_ataque)] + self.bonus_dano) ;\\\n",
    "                        receber_dano(alvo,damage,self.tipo,self)\n",
    "        elif ecct == 2: print('Erro crítico!')\n",
    "        else: print('Errou!')"
   ]
  }
 ],
 "metadata": {
  "kernelspec": {
   "display_name": "Python 3 (ipykernel)",
   "language": "python",
   "name": "python3"
  },
  "language_info": {
   "codemirror_mode": {
    "name": "ipython",
    "version": 3
   },
   "file_extension": ".py",
   "mimetype": "text/x-python",
   "name": "python",
   "nbconvert_exporter": "python",
   "pygments_lexer": "ipython3",
   "version": "3.10.11"
  },
  "varInspector": {
   "cols": {
    "lenName": 16,
    "lenType": 16,
    "lenVar": 40
   },
   "kernels_config": {
    "python": {
     "delete_cmd_postfix": "",
     "delete_cmd_prefix": "del ",
     "library": "var_list.py",
     "varRefreshCmd": "print(var_dic_list())"
    },
    "r": {
     "delete_cmd_postfix": ") ",
     "delete_cmd_prefix": "rm(",
     "library": "var_list.r",
     "varRefreshCmd": "cat(var_dic_list()) "
    }
   },
   "types_to_exclude": [
    "module",
    "function",
    "builtin_function_or_method",
    "instance",
    "_Feature"
   ],
   "window_display": false
  }
 },
 "nbformat": 4,
 "nbformat_minor": 5
}
